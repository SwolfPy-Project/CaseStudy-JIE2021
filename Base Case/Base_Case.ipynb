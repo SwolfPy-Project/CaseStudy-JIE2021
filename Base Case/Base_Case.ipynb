{
 "cells": [
  {
   "cell_type": "markdown",
   "metadata": {},
   "source": [
    "# Case Study (Base Case)"
   ]
  },
  {
   "cell_type": "code",
   "execution_count": 1,
   "metadata": {},
   "outputs": [],
   "source": [
    "import swolfpy as sp\n",
    "import swolfpy_inputdata as spid\n",
    "import swolfpy_processmodels as sppm\n",
    "\n",
    "import brightway2 as bw2\n",
    "import pandas as pd\n",
    "from time import time\n",
    "import os\n",
    "import platform\n",
    "from IPython.display import Image\n",
    "pd.set_option('display.max_colwidth', 0)"
   ]
  },
  {
   "cell_type": "markdown",
   "metadata": {},
   "source": [
    "### SwolfPy version used to produced the results:"
   ]
  },
  {
   "cell_type": "code",
   "execution_count": 2,
   "metadata": {},
   "outputs": [
    {
     "data": {
      "text/html": [
       "<div>\n",
       "<style scoped>\n",
       "    .dataframe tbody tr th:only-of-type {\n",
       "        vertical-align: middle;\n",
       "    }\n",
       "\n",
       "    .dataframe tbody tr th {\n",
       "        vertical-align: top;\n",
       "    }\n",
       "\n",
       "    .dataframe thead th {\n",
       "        text-align: right;\n",
       "    }\n",
       "</style>\n",
       "<table border=\"1\" class=\"dataframe\">\n",
       "  <thead>\n",
       "    <tr style=\"text-align: right;\">\n",
       "      <th></th>\n",
       "      <th>Version</th>\n",
       "    </tr>\n",
       "  </thead>\n",
       "  <tbody>\n",
       "    <tr>\n",
       "      <th>swolfpy</th>\n",
       "      <td>0.2.1</td>\n",
       "    </tr>\n",
       "    <tr>\n",
       "      <th>swolfpy_processmodels</th>\n",
       "      <td>0.1.5</td>\n",
       "    </tr>\n",
       "    <tr>\n",
       "      <th>swolfpy_inputdata</th>\n",
       "      <td>0.2.0</td>\n",
       "    </tr>\n",
       "  </tbody>\n",
       "</table>\n",
       "</div>"
      ],
      "text/plain": [
       "                      Version\n",
       "swolfpy                0.2.1 \n",
       "swolfpy_processmodels  0.1.5 \n",
       "swolfpy_inputdata      0.2.0 "
      ]
     },
     "execution_count": 2,
     "metadata": {},
     "output_type": "execute_result"
    }
   ],
   "source": [
    "pd.DataFrame({'Version': [sp.__version__, sppm.__version__, spid.__version__]},\n",
    "             index=['swolfpy', 'swolfpy_processmodels', 'swolfpy_inputdata'])"
   ]
  },
  {
   "cell_type": "markdown",
   "metadata": {},
   "source": [
    "### System info"
   ]
  },
  {
   "cell_type": "code",
   "execution_count": 3,
   "metadata": {},
   "outputs": [
    {
     "data": {
      "text/html": [
       "<div>\n",
       "<style scoped>\n",
       "    .dataframe tbody tr th:only-of-type {\n",
       "        vertical-align: middle;\n",
       "    }\n",
       "\n",
       "    .dataframe tbody tr th {\n",
       "        vertical-align: top;\n",
       "    }\n",
       "\n",
       "    .dataframe thead th {\n",
       "        text-align: right;\n",
       "    }\n",
       "</style>\n",
       "<table border=\"1\" class=\"dataframe\">\n",
       "  <thead>\n",
       "    <tr style=\"text-align: right;\">\n",
       "      <th></th>\n",
       "      <th>info</th>\n",
       "    </tr>\n",
       "  </thead>\n",
       "  <tbody>\n",
       "    <tr>\n",
       "      <th>Platform</th>\n",
       "      <td>Windows-10-10.0.19041-SP0</td>\n",
       "    </tr>\n",
       "    <tr>\n",
       "      <th>Processor</th>\n",
       "      <td>Intel64 Family 6 Model 142 Stepping 9, GenuineIntel</td>\n",
       "    </tr>\n",
       "    <tr>\n",
       "      <th>CPU_count</th>\n",
       "      <td>4</td>\n",
       "    </tr>\n",
       "  </tbody>\n",
       "</table>\n",
       "</div>"
      ],
      "text/plain": [
       "                                                          info\n",
       "Platform   Windows-10-10.0.19041-SP0                          \n",
       "Processor  Intel64 Family 6 Model 142 Stepping 9, GenuineIntel\n",
       "CPU_count  4                                                  "
      ]
     },
     "execution_count": 3,
     "metadata": {},
     "output_type": "execute_result"
    }
   ],
   "source": [
    "pd.DataFrame({'info': [platform.platform(),\n",
    "                       platform.processor(),\n",
    "                       os.cpu_count()]},\n",
    "             index=['Platform', 'Processor', 'CPU_count'])"
   ]
  },
  {
   "cell_type": "markdown",
   "metadata": {},
   "source": [
    "## Create project"
   ]
  },
  {
   "cell_type": "code",
   "execution_count": 4,
   "metadata": {},
   "outputs": [],
   "source": [
    "project_name = 'BaseCase'\n",
    "technosphere = sp.Technosphere(project_name)\n",
    "common_data = spid.CommonData()\n",
    "ProcessMetaData = sppm.ProcessModelsMetaData.ProcessModelsMetaData"
   ]
  },
  {
   "cell_type": "code",
   "execution_count": 5,
   "metadata": {},
   "outputs": [],
   "source": [
    "# Treatment processes\n",
    "Treatment_processes = {}\n",
    "Treatment_processes['LF'] = {'input_type':ProcessMetaData['LF']['InputType'] , 'model':sppm.LF()}\n",
    "Treatment_processes['Composting'] = {'input_type':ProcessMetaData['Comp']['InputType'] , 'model':sppm.Comp()}\n",
    "Treatment_processes['SS_MRF'] = {'input_type':ProcessMetaData['SS_MRF']['InputType'] , 'model':sppm.SS_MRF()}\n",
    "Treatment_processes['Reprocessing'] = {'input_type':ProcessMetaData['Reproc']['InputType'] , 'model':sppm.Reproc()}\n"
   ]
  },
  {
   "cell_type": "code",
   "execution_count": 6,
   "metadata": {},
   "outputs": [
    {
     "data": {
      "text/html": [
       "<div>\n",
       "<style scoped>\n",
       "    .dataframe tbody tr th:only-of-type {\n",
       "        vertical-align: middle;\n",
       "    }\n",
       "\n",
       "    .dataframe tbody tr th {\n",
       "        vertical-align: top;\n",
       "    }\n",
       "\n",
       "    .dataframe thead th {\n",
       "        text-align: right;\n",
       "    }\n",
       "</style>\n",
       "<table border=\"1\" class=\"dataframe\">\n",
       "  <thead>\n",
       "    <tr style=\"text-align: right;\">\n",
       "      <th></th>\n",
       "      <th>LF</th>\n",
       "      <th>Composting</th>\n",
       "      <th>SS_MRF</th>\n",
       "      <th>Reprocessing</th>\n",
       "      <th>Collection</th>\n",
       "    </tr>\n",
       "  </thead>\n",
       "  <tbody>\n",
       "    <tr>\n",
       "      <th>LF</th>\n",
       "      <td>NaN</td>\n",
       "      <td>30.0</td>\n",
       "      <td>30.0</td>\n",
       "      <td>30.0</td>\n",
       "      <td>30.0</td>\n",
       "    </tr>\n",
       "    <tr>\n",
       "      <th>Composting</th>\n",
       "      <td>NaN</td>\n",
       "      <td>NaN</td>\n",
       "      <td>30.0</td>\n",
       "      <td>30.0</td>\n",
       "      <td>30.0</td>\n",
       "    </tr>\n",
       "    <tr>\n",
       "      <th>SS_MRF</th>\n",
       "      <td>NaN</td>\n",
       "      <td>NaN</td>\n",
       "      <td>NaN</td>\n",
       "      <td>30.0</td>\n",
       "      <td>30.0</td>\n",
       "    </tr>\n",
       "    <tr>\n",
       "      <th>Reprocessing</th>\n",
       "      <td>NaN</td>\n",
       "      <td>NaN</td>\n",
       "      <td>NaN</td>\n",
       "      <td>NaN</td>\n",
       "      <td>30.0</td>\n",
       "    </tr>\n",
       "    <tr>\n",
       "      <th>Collection</th>\n",
       "      <td>NaN</td>\n",
       "      <td>NaN</td>\n",
       "      <td>NaN</td>\n",
       "      <td>NaN</td>\n",
       "      <td>NaN</td>\n",
       "    </tr>\n",
       "  </tbody>\n",
       "</table>\n",
       "</div>"
      ],
      "text/plain": [
       "              LF  Composting  SS_MRF  Reprocessing  Collection\n",
       "LF           NaN  30.0        30.0    30.0          30.0      \n",
       "Composting   NaN NaN          30.0    30.0          30.0      \n",
       "SS_MRF       NaN NaN         NaN      30.0          30.0      \n",
       "Reprocessing NaN NaN         NaN     NaN            30.0      \n",
       "Collection   NaN NaN         NaN     NaN           NaN        "
      ]
     },
     "execution_count": 6,
     "metadata": {},
     "output_type": "execute_result"
    }
   ],
   "source": [
    "# Distance\n",
    "Processes = ['LF', 'Composting', 'SS_MRF', 'Reprocessing', 'Collection']\n",
    "data = sppm.Distance.create_distance_table(process_names=Processes,\n",
    "                                           transport_modes=['Heavy Duty Truck'],\n",
    "                                           default_dist=30)\n",
    "\n",
    "distance = sppm.Distance(data)          \n",
    "data['Heavy Duty Truck']"
   ]
  },
  {
   "cell_type": "code",
   "execution_count": 7,
   "metadata": {},
   "outputs": [],
   "source": [
    "# Collection_processes:\n",
    "# Only include one single family sector wih residual waste collection\n",
    "Collection_scheme = sppm.SF_Col.scheme()\n",
    "Collection_scheme[('RWC', 'SSYW', 'SSR')] = 1\n",
    "Collection_processes = {}\n",
    "Collection_processes['Collection'] = {'input_type': [],\n",
    "                                      'model': sppm.SF_Col('Collection', Collection_scheme,\n",
    "                                                      Treatment_processes=Treatment_processes,\n",
    "                                                      Distance=distance)}"
   ]
  },
  {
   "cell_type": "code",
   "execution_count": 8,
   "metadata": {
    "scrolled": true
   },
   "outputs": [
    {
     "name": "stdout",
     "output_type": "stream",
     "text": [
      "Biosphere database already present!!! No setup is needed\n",
      "Vacuuming database \n",
      "Vacuuming database \n"
     ]
    },
    {
     "name": "stderr",
     "output_type": "stream",
     "text": [
      "Writing activities to SQLite3 database:\n"
     ]
    },
    {
     "name": "stdout",
     "output_type": "stream",
     "text": [
      "\n",
      "                ####\n",
      "                ++++++  Writing the Technosphere\n",
      "                \n"
     ]
    },
    {
     "name": "stderr",
     "output_type": "stream",
     "text": [
      "0% [##############################] 100% | ETA: 00:00:00\n",
      "Total time elapsed: 00:00:10\n"
     ]
    },
    {
     "name": "stdout",
     "output_type": "stream",
     "text": [
      "Title: Writing activities to SQLite3 database:\n",
      "  Started: 09/02/2021 10:48:14\n",
      "  Finished: 09/02/2021 10:48:25\n",
      "  Total time elapsed: 00:00:10\n",
      "  CPU %: 66.00\n",
      "  Memory %: 1.33\n"
     ]
    },
    {
     "name": "stderr",
     "output_type": "stream",
     "text": [
      "Writing activities to SQLite3 database:\n"
     ]
    },
    {
     "name": "stdout",
     "output_type": "stream",
     "text": [
      "\n",
      "              ####\n",
      "              ++++++ Initializing the LF\n",
      "              \n"
     ]
    },
    {
     "name": "stderr",
     "output_type": "stream",
     "text": [
      "0% [##############################] 100% | ETA: 00:00:00\n",
      "Total time elapsed: 00:00:00\n"
     ]
    },
    {
     "name": "stdout",
     "output_type": "stream",
     "text": [
      "Title: Writing activities to SQLite3 database:\n",
      "  Started: 09/02/2021 10:48:26\n",
      "  Finished: 09/02/2021 10:48:26\n",
      "  Total time elapsed: 00:00:00\n",
      "  CPU %: 99.70\n",
      "  Memory %: 1.33\n",
      "\n",
      "              ####\n",
      "              ++++++ Initializing the Composting\n",
      "              "
     ]
    },
    {
     "name": "stderr",
     "output_type": "stream",
     "text": [
      "Writing activities to SQLite3 database:\n"
     ]
    },
    {
     "name": "stdout",
     "output_type": "stream",
     "text": [
      "\n"
     ]
    },
    {
     "name": "stderr",
     "output_type": "stream",
     "text": [
      "0% [##############################] 100% | ETA: 00:00:00\n",
      "Total time elapsed: 00:00:00\n"
     ]
    },
    {
     "name": "stdout",
     "output_type": "stream",
     "text": [
      "Title: Writing activities to SQLite3 database:\n",
      "  Started: 09/02/2021 10:48:26\n",
      "  Finished: 09/02/2021 10:48:26\n",
      "  Total time elapsed: 00:00:00\n",
      "  CPU %: 100.80\n",
      "  Memory %: 1.33\n"
     ]
    },
    {
     "name": "stderr",
     "output_type": "stream",
     "text": [
      "Writing activities to SQLite3 database:\n"
     ]
    },
    {
     "name": "stdout",
     "output_type": "stream",
     "text": [
      "\n",
      "              ####\n",
      "              ++++++ Initializing the SS_MRF\n",
      "              \n"
     ]
    },
    {
     "name": "stderr",
     "output_type": "stream",
     "text": [
      "0% [##############################] 100% | ETA: 00:00:00\n",
      "Total time elapsed: 00:00:00\n"
     ]
    },
    {
     "name": "stdout",
     "output_type": "stream",
     "text": [
      "Title: Writing activities to SQLite3 database:\n",
      "  Started: 09/02/2021 10:48:26\n",
      "  Finished: 09/02/2021 10:48:26\n",
      "  Total time elapsed: 00:00:00\n",
      "  CPU %: 99.70\n",
      "  Memory %: 1.33\n"
     ]
    },
    {
     "name": "stderr",
     "output_type": "stream",
     "text": [
      "Writing activities to SQLite3 database:\n"
     ]
    },
    {
     "name": "stdout",
     "output_type": "stream",
     "text": [
      "\n",
      "              ####\n",
      "              ++++++ Initializing the Reprocessing\n",
      "              \n"
     ]
    },
    {
     "name": "stderr",
     "output_type": "stream",
     "text": [
      "0% [###############] 100% | ETA: 00:00:00\n",
      "Total time elapsed: 00:00:00\n"
     ]
    },
    {
     "name": "stdout",
     "output_type": "stream",
     "text": [
      "Title: Writing activities to SQLite3 database:\n",
      "  Started: 09/02/2021 10:48:26\n",
      "  Finished: 09/02/2021 10:48:26\n",
      "  Total time elapsed: 00:00:00\n",
      "  CPU %: 97.70\n",
      "  Memory %: 1.33\n"
     ]
    },
    {
     "name": "stderr",
     "output_type": "stream",
     "text": [
      "Writing activities to SQLite3 database:\n"
     ]
    },
    {
     "name": "stdout",
     "output_type": "stream",
     "text": [
      "\n",
      "              ####\n",
      "              ++++++ Initializing the Collection\n",
      "              \n"
     ]
    },
    {
     "name": "stderr",
     "output_type": "stream",
     "text": [
      "0% [##############################] 100% | ETA: 00:00:00\n",
      "Total time elapsed: 00:00:00\n"
     ]
    },
    {
     "name": "stdout",
     "output_type": "stream",
     "text": [
      "Title: Writing activities to SQLite3 database:\n",
      "  Started: 09/02/2021 10:48:26\n",
      "  Finished: 09/02/2021 10:48:27\n",
      "  Total time elapsed: 00:00:00\n",
      "  CPU %: 100.80\n",
      "  Memory %: 1.33\n",
      "\n",
      "              ####\n",
      "              ++++++ Writing the LF\n",
      "              \n"
     ]
    },
    {
     "name": "stderr",
     "output_type": "stream",
     "text": [
      "Writing activities to SQLite3 database:\n",
      "0% [##############################] 100% | ETA: 00:00:00\n",
      "Total time elapsed: 00:00:01\n"
     ]
    },
    {
     "name": "stdout",
     "output_type": "stream",
     "text": [
      "Title: Writing activities to SQLite3 database:\n",
      "  Started: 09/02/2021 10:48:27\n",
      "  Finished: 09/02/2021 10:48:28\n",
      "  Total time elapsed: 00:00:01\n",
      "  CPU %: 78.10\n",
      "  Memory %: 1.34\n"
     ]
    },
    {
     "name": "stderr",
     "output_type": "stream",
     "text": [
      "Writing activities to SQLite3 database:\n"
     ]
    },
    {
     "name": "stdout",
     "output_type": "stream",
     "text": [
      "\n",
      "                  ####\n",
      "                  ++++++ Writing the Composting_product\n",
      "                  \n"
     ]
    },
    {
     "name": "stderr",
     "output_type": "stream",
     "text": [
      "0% [##############################] 100% | ETA: 00:00:00\n",
      "Total time elapsed: 00:00:00\n"
     ]
    },
    {
     "name": "stdout",
     "output_type": "stream",
     "text": [
      "Title: Writing activities to SQLite3 database:\n",
      "  Started: 09/02/2021 10:48:28\n",
      "  Finished: 09/02/2021 10:48:28\n",
      "  Total time elapsed: 00:00:00\n",
      "  CPU %: 80.10\n",
      "  Memory %: 1.35\n",
      "\n",
      "              ####\n",
      "              ++++++ Writing the Composting\n",
      "              "
     ]
    },
    {
     "name": "stderr",
     "output_type": "stream",
     "text": [
      "Writing activities to SQLite3 database:\n"
     ]
    },
    {
     "name": "stdout",
     "output_type": "stream",
     "text": [
      "\n"
     ]
    },
    {
     "name": "stderr",
     "output_type": "stream",
     "text": [
      "0% [##############################] 100% | ETA: 00:00:00\n",
      "Total time elapsed: 00:00:00\n"
     ]
    },
    {
     "name": "stdout",
     "output_type": "stream",
     "text": [
      "Title: Writing activities to SQLite3 database:\n",
      "  Started: 09/02/2021 10:48:28\n",
      "  Finished: 09/02/2021 10:48:28\n",
      "  Total time elapsed: 00:00:00\n",
      "  CPU %: 86.00\n",
      "  Memory %: 1.35\n",
      "\n",
      "                  ####\n",
      "                  ++++++ Writing the SS_MRF_product\n",
      "                  \n"
     ]
    },
    {
     "name": "stderr",
     "output_type": "stream",
     "text": [
      "Writing activities to SQLite3 database:\n",
      "0% [##############################] 100% | ETA: 00:00:00\n",
      "Total time elapsed: 00:00:00\n"
     ]
    },
    {
     "name": "stdout",
     "output_type": "stream",
     "text": [
      "Title: Writing activities to SQLite3 database:\n",
      "  Started: 09/02/2021 10:48:29\n",
      "  Finished: 09/02/2021 10:48:29\n",
      "  Total time elapsed: 00:00:00\n",
      "  CPU %: 86.30\n",
      "  Memory %: 1.36\n"
     ]
    },
    {
     "name": "stderr",
     "output_type": "stream",
     "text": [
      "Writing activities to SQLite3 database:\n"
     ]
    },
    {
     "name": "stdout",
     "output_type": "stream",
     "text": [
      "\n",
      "              ####\n",
      "              ++++++ Writing the SS_MRF\n",
      "              \n"
     ]
    },
    {
     "name": "stderr",
     "output_type": "stream",
     "text": [
      "0% [##############################] 100% | ETA: 00:00:00\n",
      "Total time elapsed: 00:00:00\n",
      "Writing activities to SQLite3 database:\n"
     ]
    },
    {
     "name": "stdout",
     "output_type": "stream",
     "text": [
      "Title: Writing activities to SQLite3 database:\n",
      "  Started: 09/02/2021 10:48:30\n",
      "  Finished: 09/02/2021 10:48:30\n",
      "  Total time elapsed: 00:00:00\n",
      "  CPU %: 86.80\n",
      "  Memory %: 1.38\n",
      "\n",
      "              ####\n",
      "              ++++++ Writing the Reprocessing\n",
      "              \n"
     ]
    },
    {
     "name": "stderr",
     "output_type": "stream",
     "text": [
      "0% [###############] 100% | ETA: 00:00:00\n",
      "Total time elapsed: 00:00:00\n"
     ]
    },
    {
     "name": "stdout",
     "output_type": "stream",
     "text": [
      "Title: Writing activities to SQLite3 database:\n",
      "  Started: 09/02/2021 10:48:31\n",
      "  Finished: 09/02/2021 10:48:31\n",
      "  Total time elapsed: 00:00:00\n",
      "  CPU %: 114.70\n",
      "  Memory %: 1.38\n",
      "\n",
      "                  ####\n",
      "                  ++++++ Writing the Collection_product\n",
      "                  \n"
     ]
    },
    {
     "name": "stderr",
     "output_type": "stream",
     "text": [
      "Writing activities to SQLite3 database:\n",
      "0% [##############################] 100% | ETA: 00:00:00\n",
      "Total time elapsed: 00:00:00\n"
     ]
    },
    {
     "name": "stdout",
     "output_type": "stream",
     "text": [
      "Title: Writing activities to SQLite3 database:\n",
      "  Started: 09/02/2021 10:48:31\n",
      "  Finished: 09/02/2021 10:48:32\n",
      "  Total time elapsed: 00:00:00\n",
      "  CPU %: 87.50\n",
      "  Memory %: 1.38\n"
     ]
    },
    {
     "name": "stderr",
     "output_type": "stream",
     "text": [
      "Writing activities to SQLite3 database:\n"
     ]
    },
    {
     "name": "stdout",
     "output_type": "stream",
     "text": [
      "\n",
      "              ####\n",
      "              ++++++ Writing the Collection\n",
      "              \n"
     ]
    },
    {
     "name": "stderr",
     "output_type": "stream",
     "text": [
      "0% [##############################] 100% | ETA: 00:00:00\n",
      "Total time elapsed: 00:00:00\n"
     ]
    },
    {
     "name": "stdout",
     "output_type": "stream",
     "text": [
      "Title: Writing activities to SQLite3 database:\n",
      "  Started: 09/02/2021 10:48:32\n",
      "  Finished: 09/02/2021 10:48:33\n",
      "  Total time elapsed: 00:00:00\n",
      "  CPU %: 83.10\n",
      "  Memory %: 1.39\n",
      "\n",
      "                  Grouping the exchanges with parameters in Database LF\n",
      "                  \n",
      "\n",
      "                  Grouping the exchanges with parameters in Database Composting\n",
      "                  \n",
      "\n",
      "                  Grouping the exchanges with parameters in Database SS_MRF\n",
      "                  \n",
      "\n",
      "                  Grouping the exchanges with parameters in Database Reprocessing\n",
      "                  \n",
      "\n",
      "                  Grouping the exchanges with parameters in Database Collection\n",
      "                  \n",
      "Time for writing the project: 39 second\n"
     ]
    }
   ],
   "source": [
    "start = time()\n",
    "demo = sp.Project(project_name, common_data, Treatment_processes, distance, Collection_processes, technosphere)\n",
    "demo.init_project()\n",
    "demo.write_project()\n",
    "demo.group_exchanges()\n",
    "print(\"Time for writing the project: {} second\".format(round(time()-start)))"
   ]
  },
  {
   "cell_type": "code",
   "execution_count": 9,
   "metadata": {},
   "outputs": [
    {
     "name": "stdout",
     "output_type": "stream",
     "text": [
      "Time for updating the parameters: 2 second\n"
     ]
    }
   ],
   "source": [
    "start = time()\n",
    "newparam = []\n",
    "demo.update_parameters(newparam)\n",
    "\n",
    "print(\"Time for updating the parameters: {} second\".format(round(time()-start)))"
   ]
  },
  {
   "cell_type": "markdown",
   "metadata": {},
   "source": [
    "## Create Scenario for waste collection"
   ]
  },
  {
   "cell_type": "code",
   "execution_count": 10,
   "metadata": {},
   "outputs": [],
   "source": [
    "input_dict = {'Collection':{}}\n",
    "\n",
    "for key in common_data.Index:\n",
    "    input_dict['Collection'][key]=1\n",
    "demo.create_scenario(input_dict,'Collection')"
   ]
  },
  {
   "cell_type": "markdown",
   "metadata": {},
   "source": [
    "## Mass flows, impacts and costs"
   ]
  },
  {
   "cell_type": "code",
   "execution_count": 11,
   "metadata": {},
   "outputs": [
    {
     "data": {
      "text/html": [
       "<div>\n",
       "<style scoped>\n",
       "    .dataframe tbody tr th:only-of-type {\n",
       "        vertical-align: middle;\n",
       "    }\n",
       "\n",
       "    .dataframe tbody tr th {\n",
       "        vertical-align: top;\n",
       "    }\n",
       "\n",
       "    .dataframe thead th {\n",
       "        text-align: right;\n",
       "    }\n",
       "</style>\n",
       "<table border=\"1\" class=\"dataframe\">\n",
       "  <thead>\n",
       "    <tr style=\"text-align: right;\">\n",
       "      <th></th>\n",
       "      <th>Value</th>\n",
       "      <th>Unit</th>\n",
       "    </tr>\n",
       "  </thead>\n",
       "  <tbody>\n",
       "    <tr>\n",
       "      <th>Diversion</th>\n",
       "      <td>33.52</td>\n",
       "      <td>%</td>\n",
       "    </tr>\n",
       "    <tr>\n",
       "      <th>GWP</th>\n",
       "      <td>-329.15</td>\n",
       "      <td>kg CO2/Mg</td>\n",
       "    </tr>\n",
       "    <tr>\n",
       "      <th>Operation Cost</th>\n",
       "      <td>55.53</td>\n",
       "      <td>$/Mg</td>\n",
       "    </tr>\n",
       "    <tr>\n",
       "      <th>Capital cost</th>\n",
       "      <td>2.87</td>\n",
       "      <td>$/Mg</td>\n",
       "    </tr>\n",
       "    <tr>\n",
       "      <th>Total cost</th>\n",
       "      <td>58.4</td>\n",
       "      <td>$/Mg</td>\n",
       "    </tr>\n",
       "    <tr>\n",
       "      <th>Collection</th>\n",
       "      <td>74621</td>\n",
       "      <td>Mg/yr</td>\n",
       "    </tr>\n",
       "    <tr>\n",
       "      <th>LF</th>\n",
       "      <td>49608</td>\n",
       "      <td>Mg/yr</td>\n",
       "    </tr>\n",
       "    <tr>\n",
       "      <th>WTE</th>\n",
       "      <td>0</td>\n",
       "      <td>Mg/yr</td>\n",
       "    </tr>\n",
       "    <tr>\n",
       "      <th>Composting</th>\n",
       "      <td>9570</td>\n",
       "      <td>Mg/yr</td>\n",
       "    </tr>\n",
       "    <tr>\n",
       "      <th>AD</th>\n",
       "      <td>0</td>\n",
       "      <td>Mg/yr</td>\n",
       "    </tr>\n",
       "    <tr>\n",
       "      <th>SS_MRF</th>\n",
       "      <td>18305</td>\n",
       "      <td>Mg/yr</td>\n",
       "    </tr>\n",
       "    <tr>\n",
       "      <th>Reprocessing</th>\n",
       "      <td>15861</td>\n",
       "      <td>Mg/yr</td>\n",
       "    </tr>\n",
       "  </tbody>\n",
       "</table>\n",
       "</div>"
      ],
      "text/plain": [
       "                 Value       Unit\n",
       "Diversion       33.52   %        \n",
       "GWP            -329.15  kg CO2/Mg\n",
       "Operation Cost  55.53   $/Mg     \n",
       "Capital cost    2.87    $/Mg     \n",
       "Total cost      58.4    $/Mg     \n",
       "Collection      74621   Mg/yr    \n",
       "LF              49608   Mg/yr    \n",
       "WTE             0       Mg/yr    \n",
       "Composting      9570    Mg/yr    \n",
       "AD              0       Mg/yr    \n",
       "SS_MRF          18305   Mg/yr    \n",
       "Reprocessing    15861   Mg/yr    "
      ]
     },
     "execution_count": 11,
     "metadata": {},
     "output_type": "execute_result"
    }
   ],
   "source": [
    "results = pd.DataFrame(columns=['Value', 'Unit'],\n",
    "                       index=['Diversion','GWP','Operation Cost','Capital cost','Total cost',\n",
    "                              'Collection','LF','WTE','Composting','AD','SS_MRF','Reprocessing'])\n",
    "\n",
    "bw2.projects.set_current('BaseCase')\n",
    "Demand = {('waste', 'Collection'):1}\n",
    "FU=bw2.get_activity(('waste', 'Collection'))\n",
    "method = ('IPCC 2013', 'climate change', 'GWP 100a')\n",
    "lca=bw2.LCA(Demand,method)\n",
    "lca.lci()\n",
    "lca.lcia()\n",
    "results.loc['GWP',:] = [round(lca.score/float(FU.as_dict()['unit'].split(' ')[0]),2), 'kg CO2/Mg']\n",
    "\n",
    "lca.switch_method(('SwolfPy_Operational_Cost', 'SwolfPy'))\n",
    "lca.lcia()\n",
    "results.loc['Operation Cost',:] = [round(lca.score/float(FU.as_dict()['unit'].split(' ')[0]),2), '$/Mg']\n",
    "\n",
    "\n",
    "lca.switch_method(('SwolfPy_Capital_Cost', 'SwolfPy'))\n",
    "lca.lcia()\n",
    "results.loc['Capital cost',:] = [round(lca.score/float(FU.as_dict()['unit'].split(' ')[0]),2), '$/Mg']\n",
    "\n",
    "lca.switch_method(('SwolfPy_Total_Cost', 'SwolfPy'))\n",
    "lca.lcia()\n",
    "results.loc['Total cost',:] = [round(lca.score/float(FU.as_dict()['unit'].split(' ')[0]),2), '$/Mg']\n",
    "\n",
    "for process in ['Collection','LF','WTE','Composting','AD','SS_MRF','Reprocessing']:\n",
    "    results.loc[process,:] = [round(sp.LCA_matrix.LCA_matrix.get_mass_flow(lca, process)), 'Mg/yr']\n",
    "\n",
    "results.loc['Diversion',:] = [round((1-results['Value']['LF']/results['Value']['Collection'])*100,2), '%']\n",
    "results.to_csv('BaseCase.csv')\n",
    "results"
   ]
  },
  {
   "cell_type": "markdown",
   "metadata": {},
   "source": [
    "## Setup LCA analysis and contribution analysis using ``setup_LCA`` and ``contribution_analysis`` methods in SwolfPy"
   ]
  },
  {
   "cell_type": "code",
   "execution_count": 12,
   "metadata": {},
   "outputs": [
    {
     "data": {
      "text/html": [
       "<div>\n",
       "<style scoped>\n",
       "    .dataframe tbody tr th:only-of-type {\n",
       "        vertical-align: middle;\n",
       "    }\n",
       "\n",
       "    .dataframe tbody tr th {\n",
       "        vertical-align: top;\n",
       "    }\n",
       "\n",
       "    .dataframe thead th {\n",
       "        text-align: right;\n",
       "    }\n",
       "</style>\n",
       "<table border=\"1\" class=\"dataframe\">\n",
       "  <thead>\n",
       "    <tr style=\"text-align: right;\">\n",
       "      <th></th>\n",
       "      <th>('IPCC 2013', 'climate change', 'GWP 100a')</th>\n",
       "      <th>('SwolfPy_Total_Cost', 'SwolfPy')</th>\n",
       "    </tr>\n",
       "  </thead>\n",
       "  <tbody>\n",
       "    <tr>\n",
       "      <th>('waste', 'Collection')</th>\n",
       "      <td>-2.456109e+07</td>\n",
       "      <td>4.358080e+06</td>\n",
       "    </tr>\n",
       "  </tbody>\n",
       "</table>\n",
       "</div>"
      ],
      "text/plain": [
       "                         ('IPCC 2013', 'climate change', 'GWP 100a')  \\\n",
       "('waste', 'Collection') -2.456109e+07                                  \n",
       "\n",
       "                         ('SwolfPy_Total_Cost', 'SwolfPy')  \n",
       "('waste', 'Collection')  4.358080e+06                       "
      ]
     },
     "execution_count": 12,
     "metadata": {},
     "output_type": "execute_result"
    }
   ],
   "source": [
    "functioanl_units = [{('waste', 'Collection'):1}] \n",
    "impact_methods = [('IPCC 2013', 'climate change', 'GWP 100a'),('SwolfPy_Total_Cost', 'SwolfPy')]\n",
    "sp.Project.setup_LCA('test',functioanl_units,impact_methods)"
   ]
  },
  {
   "cell_type": "markdown",
   "metadata": {},
   "source": [
    "### Top emissions contributing to the GWP of the Base Case"
   ]
  },
  {
   "cell_type": "code",
   "execution_count": 13,
   "metadata": {},
   "outputs": [
    {
     "data": {
      "text/html": [
       "<div>\n",
       "<style scoped>\n",
       "    .dataframe tbody tr th:only-of-type {\n",
       "        vertical-align: middle;\n",
       "    }\n",
       "\n",
       "    .dataframe tbody tr th {\n",
       "        vertical-align: top;\n",
       "    }\n",
       "\n",
       "    .dataframe thead th {\n",
       "        text-align: right;\n",
       "    }\n",
       "</style>\n",
       "<table border=\"1\" class=\"dataframe\">\n",
       "  <thead>\n",
       "    <tr style=\"text-align: right;\">\n",
       "      <th></th>\n",
       "      <th>Emission</th>\n",
       "      <th>Compartment</th>\n",
       "      <th>Flow</th>\n",
       "      <th>Flow Unit</th>\n",
       "      <th>Contribution</th>\n",
       "      <th>Unit</th>\n",
       "    </tr>\n",
       "  </thead>\n",
       "  <tbody>\n",
       "    <tr>\n",
       "      <th>0</th>\n",
       "      <td>Carbon dioxide, from soil or biomass stock</td>\n",
       "      <td>(air,)</td>\n",
       "      <td>-2.002412e+07</td>\n",
       "      <td>kilogram</td>\n",
       "      <td>-2.002412e+07</td>\n",
       "      <td>kg CO2-Eq</td>\n",
       "    </tr>\n",
       "    <tr>\n",
       "      <th>1</th>\n",
       "      <td>Methane, non-fossil</td>\n",
       "      <td>(air,)</td>\n",
       "      <td>6.307113e+05</td>\n",
       "      <td>kilogram</td>\n",
       "      <td>1.797527e+07</td>\n",
       "      <td>kg CO2-Eq</td>\n",
       "    </tr>\n",
       "    <tr>\n",
       "      <th>2</th>\n",
       "      <td>Carbon dioxide, fossil</td>\n",
       "      <td>(air, non-urban air or from high stacks)</td>\n",
       "      <td>-8.882530e+06</td>\n",
       "      <td>kilogram</td>\n",
       "      <td>-8.882530e+06</td>\n",
       "      <td>kg CO2-Eq</td>\n",
       "    </tr>\n",
       "    <tr>\n",
       "      <th>3</th>\n",
       "      <td>Carbon dioxide, fossil</td>\n",
       "      <td>(air,)</td>\n",
       "      <td>-5.799501e+06</td>\n",
       "      <td>kilogram</td>\n",
       "      <td>-5.799501e+06</td>\n",
       "      <td>kg CO2-Eq</td>\n",
       "    </tr>\n",
       "    <tr>\n",
       "      <th>4</th>\n",
       "      <td>Carbon dioxide, fossil</td>\n",
       "      <td>(air, urban air close to ground)</td>\n",
       "      <td>-4.595979e+06</td>\n",
       "      <td>kilogram</td>\n",
       "      <td>-4.595979e+06</td>\n",
       "      <td>kg CO2-Eq</td>\n",
       "    </tr>\n",
       "  </tbody>\n",
       "</table>\n",
       "</div>"
      ],
      "text/plain": [
       "                                     Emission  \\\n",
       "0  Carbon dioxide, from soil or biomass stock   \n",
       "1  Methane, non-fossil                          \n",
       "2  Carbon dioxide, fossil                       \n",
       "3  Carbon dioxide, fossil                       \n",
       "4  Carbon dioxide, fossil                       \n",
       "\n",
       "                                Compartment          Flow Flow Unit  \\\n",
       "0  (air,)                                   -2.002412e+07  kilogram   \n",
       "1  (air,)                                    6.307113e+05  kilogram   \n",
       "2  (air, non-urban air or from high stacks) -8.882530e+06  kilogram   \n",
       "3  (air,)                                   -5.799501e+06  kilogram   \n",
       "4  (air, urban air close to ground)         -4.595979e+06  kilogram   \n",
       "\n",
       "   Contribution       Unit  \n",
       "0 -2.002412e+07  kg CO2-Eq  \n",
       "1  1.797527e+07  kg CO2-Eq  \n",
       "2 -8.882530e+06  kg CO2-Eq  \n",
       "3 -5.799501e+06  kg CO2-Eq  \n",
       "4 -4.595979e+06  kg CO2-Eq  "
      ]
     },
     "execution_count": 13,
     "metadata": {},
     "output_type": "execute_result"
    },
    {
     "data": {
      "image/png": "[encoded data removed]",
      "text/plain": [
       "<Figure size 612x360 with 1 Axes>"
      ]
     },
     "metadata": {
      "needs_background": "light"
     },
     "output_type": "display_data"
    }
   ],
   "source": [
    "Data, plot = demo.contribution_analysis(functional_unit={('waste', 'Collection'):1},\n",
    "                                        impact_method=('IPCC 2013', 'climate change', 'GWP 100a'),\n",
    "                                        limit=0.1,\n",
    "                                        limit_type='percent',\n",
    "                                        target='emissions',\n",
    "                                        figsize=(8.5,5),\n",
    "                                        font_scale=1)\n",
    "plot[0].text(0.05, 0.1, 'A', fontsize=18, weight='bold')\n",
    "plot[1].set_title(None)\n",
    "plot[1].set_ylabel(r\"GHG emissions $(kgCO_2 Eq)$\")\n",
    "plot[0].savefig('Contribution_top_emissions',dpi=600, bbox_inches='tight')\n",
    "Data.to_csv('Contribution_top_emissions_raw_data.csv')\n",
    "Data"
   ]
  },
  {
   "cell_type": "markdown",
   "metadata": {},
   "source": [
    "### Top activities contributing to the GWP of the Base Case"
   ]
  },
  {
   "cell_type": "code",
   "execution_count": 14,
   "metadata": {},
   "outputs": [
    {
     "data": {
      "text/html": [
       "<div>\n",
       "<style scoped>\n",
       "    .dataframe tbody tr th:only-of-type {\n",
       "        vertical-align: middle;\n",
       "    }\n",
       "\n",
       "    .dataframe tbody tr th {\n",
       "        vertical-align: top;\n",
       "    }\n",
       "\n",
       "    .dataframe thead th {\n",
       "        text-align: right;\n",
       "    }\n",
       "</style>\n",
       "<table border=\"1\" class=\"dataframe\">\n",
       "  <thead>\n",
       "    <tr style=\"text-align: right;\">\n",
       "      <th></th>\n",
       "      <th>Activity</th>\n",
       "      <th>Flow</th>\n",
       "      <th>Flow Unit</th>\n",
       "      <th>Contribution</th>\n",
       "      <th>Unit</th>\n",
       "    </tr>\n",
       "  </thead>\n",
       "  <tbody>\n",
       "    <tr>\n",
       "      <th>0</th>\n",
       "      <td>Electricity production</td>\n",
       "      <td>1.590117e+07</td>\n",
       "      <td>kWh</td>\n",
       "      <td>-1.394081e+07</td>\n",
       "      <td>kg CO2-Eq</td>\n",
       "    </tr>\n",
       "    <tr>\n",
       "      <th>1</th>\n",
       "      <td>Equipment CNG</td>\n",
       "      <td>-1.341395e+06</td>\n",
       "      <td>NA</td>\n",
       "      <td>-5.094557e+06</td>\n",
       "      <td>kg CO2-Eq</td>\n",
       "    </tr>\n",
       "    <tr>\n",
       "      <th>2</th>\n",
       "      <td>LF Textiles</td>\n",
       "      <td>4.775716e+03</td>\n",
       "      <td>Mg/year</td>\n",
       "      <td>4.863834e+06</td>\n",
       "      <td>kg CO2-Eq</td>\n",
       "    </tr>\n",
       "    <tr>\n",
       "      <th>3</th>\n",
       "      <td>LF Wood</td>\n",
       "      <td>3.283305e+03</td>\n",
       "      <td>Mg/year</td>\n",
       "      <td>-4.751881e+06</td>\n",
       "      <td>kg CO2-Eq</td>\n",
       "    </tr>\n",
       "    <tr>\n",
       "      <th>4</th>\n",
       "      <td>LF Food Waste Vegetable</td>\n",
       "      <td>8.805226e+03</td>\n",
       "      <td>Mg/year</td>\n",
       "      <td>3.233591e+06</td>\n",
       "      <td>kg CO2-Eq</td>\n",
       "    </tr>\n",
       "    <tr>\n",
       "      <th>5</th>\n",
       "      <td>Equipment Diesel</td>\n",
       "      <td>8.770632e+05</td>\n",
       "      <td>L</td>\n",
       "      <td>3.143809e+06</td>\n",
       "      <td>kg CO2-Eq</td>\n",
       "    </tr>\n",
       "    <tr>\n",
       "      <th>6</th>\n",
       "      <td>LF Wood Other</td>\n",
       "      <td>1.940135e+03</td>\n",
       "      <td>Mg/year</td>\n",
       "      <td>-2.632614e+06</td>\n",
       "      <td>kg CO2-Eq</td>\n",
       "    </tr>\n",
       "    <tr>\n",
       "      <th>7</th>\n",
       "      <td>Reprocessing Fe</td>\n",
       "      <td>2.312103e+03</td>\n",
       "      <td>Mg/year</td>\n",
       "      <td>-2.555846e+06</td>\n",
       "      <td>kg CO2-Eq</td>\n",
       "    </tr>\n",
       "  </tbody>\n",
       "</table>\n",
       "</div>"
      ],
      "text/plain": [
       "                  Activity          Flow Flow Unit  Contribution       Unit\n",
       "0  Electricity production   1.590117e+07  kWh      -1.394081e+07  kg CO2-Eq\n",
       "1  Equipment CNG           -1.341395e+06  NA       -5.094557e+06  kg CO2-Eq\n",
       "2  LF Textiles              4.775716e+03  Mg/year   4.863834e+06  kg CO2-Eq\n",
       "3  LF Wood                  3.283305e+03  Mg/year  -4.751881e+06  kg CO2-Eq\n",
       "4  LF Food Waste Vegetable  8.805226e+03  Mg/year   3.233591e+06  kg CO2-Eq\n",
       "5  Equipment Diesel         8.770632e+05  L         3.143809e+06  kg CO2-Eq\n",
       "6  LF Wood Other            1.940135e+03  Mg/year  -2.632614e+06  kg CO2-Eq\n",
       "7  Reprocessing Fe          2.312103e+03  Mg/year  -2.555846e+06  kg CO2-Eq"
      ]
     },
     "execution_count": 14,
     "metadata": {},
     "output_type": "execute_result"
    },
    {
     "data": {
      "image/png": "[encoded data removed]",
      "text/plain": [
       "<Figure size 612x360 with 1 Axes>"
      ]
     },
     "metadata": {
      "needs_background": "light"
     },
     "output_type": "display_data"
    }
   ],
   "source": [
    "Data, plot = demo.contribution_analysis(functional_unit={('waste', 'Collection'):1},\n",
    "                                          impact_method=('IPCC 2013', 'climate change', 'GWP 100a'),\n",
    "                                          limit=0.1,\n",
    "                                          limit_type='percent',\n",
    "                                          target='activities',\n",
    "                                          figsize=(8.5,5))\n",
    "plot[0].text(0.02, 0.1, 'B', fontsize=18, weight='bold')\n",
    "plot[1].set_title(None)\n",
    "plot[1].set_ylabel(r\"GHG emissions $(kgCO_2 Eq)$\")\n",
    "plot[0].savefig('Contribution_top_acts', dpi=600, bbox_inches='tight')\n",
    "Data.to_csv('Contribution_top_acts_raw_data.csv')\n",
    "Data"
   ]
  },
  {
   "cell_type": "markdown",
   "metadata": {},
   "source": [
    "## Plot SWM Network"
   ]
  },
  {
   "cell_type": "code",
   "execution_count": 15,
   "metadata": {},
   "outputs": [],
   "source": [
    "demo.parameters.SWM_network(show_vals=False, all_flow=False, filename='SWM_network_BaseCase')"
   ]
  },
  {
   "cell_type": "markdown",
   "metadata": {},
   "source": [
    "<img src=\"SWM_network_BaseCase.gv.png\" alt=\"Drawing\" style=\"width: 600px; \"  align=\"left\"/>"
   ]
  }
 ],
 "metadata": {
  "kernelspec": {
   "display_name": "Python 3",
   "language": "python",
   "name": "python3"
  },
  "language_info": {
   "codemirror_mode": {
    "name": "ipython",
    "version": 3
   },
   "file_extension": ".py",
   "mimetype": "text/x-python",
   "name": "python",
   "nbconvert_exporter": "python",
   "pygments_lexer": "ipython3",
   "version": "3.7.9"
  }
 },
 "nbformat": 4,
 "nbformat_minor": 4
}
