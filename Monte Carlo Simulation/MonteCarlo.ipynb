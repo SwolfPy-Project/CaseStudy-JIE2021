{
 "cells": [
  {
   "cell_type": "markdown",
   "metadata": {},
   "source": [
    "## Monte Carlo Simulation for Scenario 2"
   ]
  },
  {
   "cell_type": "code",
   "execution_count": 37,
   "metadata": {},
   "outputs": [],
   "source": [
    "import swolfpy as sp\n",
    "import swolfpy_inputdata as spid\n",
    "import swolfpy_processmodels as sppm\n",
    "\n",
    "import brightway2 as bw2\n",
    "import pandas as pd\n",
    "import numpy as np\n",
    "from time import time\n",
    "import platform\n",
    "import os\n",
    "import seaborn as sns\n",
    "import matplotlib.pyplot as plt\n",
    "from scipy import stats\n",
    "pd.set_option('display.max_colwidth', 0)\n",
    "pd.set_option('display.max_rows', 500)\n",
    "plt.rcParams[\"font.family\"] = \"Times New Roman\"\n",
    "%matplotlib inline"
   ]
  },
  {
   "cell_type": "markdown",
   "metadata": {},
   "source": [
    "## SwolfPy version used to produced the results:"
   ]
  },
  {
   "cell_type": "code",
   "execution_count": 2,
   "metadata": {},
   "outputs": [
    {
     "data": {
      "text/html": [
       "<div>\n",
       "<style scoped>\n",
       "    .dataframe tbody tr th:only-of-type {\n",
       "        vertical-align: middle;\n",
       "    }\n",
       "\n",
       "    .dataframe tbody tr th {\n",
       "        vertical-align: top;\n",
       "    }\n",
       "\n",
       "    .dataframe thead th {\n",
       "        text-align: right;\n",
       "    }\n",
       "</style>\n",
       "<table border=\"1\" class=\"dataframe\">\n",
       "  <thead>\n",
       "    <tr style=\"text-align: right;\">\n",
       "      <th></th>\n",
       "      <th>Version</th>\n",
       "    </tr>\n",
       "  </thead>\n",
       "  <tbody>\n",
       "    <tr>\n",
       "      <th>swolfpy</th>\n",
       "      <td>0.2.0</td>\n",
       "    </tr>\n",
       "    <tr>\n",
       "      <th>swolfpy_processmodels</th>\n",
       "      <td>0.1.4</td>\n",
       "    </tr>\n",
       "    <tr>\n",
       "      <th>swolfpy_inputdata</th>\n",
       "      <td>0.1.9</td>\n",
       "    </tr>\n",
       "  </tbody>\n",
       "</table>\n",
       "</div>"
      ],
      "text/plain": [
       "                      Version\n",
       "swolfpy                0.2.0 \n",
       "swolfpy_processmodels  0.1.4 \n",
       "swolfpy_inputdata      0.1.9 "
      ]
     },
     "execution_count": 2,
     "metadata": {},
     "output_type": "execute_result"
    }
   ],
   "source": [
    "pd.DataFrame({'Version': [sp.__version__, sppm.__version__, spid.__version__]},\n",
    "             index=['swolfpy', 'swolfpy_processmodels', 'swolfpy_inputdata'])"
   ]
  },
  {
   "cell_type": "markdown",
   "metadata": {},
   "source": [
    "### System info"
   ]
  },
  {
   "cell_type": "code",
   "execution_count": 3,
   "metadata": {},
   "outputs": [
    {
     "data": {
      "text/html": [
       "<div>\n",
       "<style scoped>\n",
       "    .dataframe tbody tr th:only-of-type {\n",
       "        vertical-align: middle;\n",
       "    }\n",
       "\n",
       "    .dataframe tbody tr th {\n",
       "        vertical-align: top;\n",
       "    }\n",
       "\n",
       "    .dataframe thead th {\n",
       "        text-align: right;\n",
       "    }\n",
       "</style>\n",
       "<table border=\"1\" class=\"dataframe\">\n",
       "  <thead>\n",
       "    <tr style=\"text-align: right;\">\n",
       "      <th></th>\n",
       "      <th>info</th>\n",
       "    </tr>\n",
       "  </thead>\n",
       "  <tbody>\n",
       "    <tr>\n",
       "      <th>Platform</th>\n",
       "      <td>Windows-10-10.0.18362-SP0</td>\n",
       "    </tr>\n",
       "    <tr>\n",
       "      <th>Processor</th>\n",
       "      <td>Intel64 Family 6 Model 158 Stepping 9, GenuineIntel</td>\n",
       "    </tr>\n",
       "    <tr>\n",
       "      <th>CPU_count</th>\n",
       "      <td>8</td>\n",
       "    </tr>\n",
       "  </tbody>\n",
       "</table>\n",
       "</div>"
      ],
      "text/plain": [
       "                                                          info\n",
       "Platform   Windows-10-10.0.18362-SP0                          \n",
       "Processor  Intel64 Family 6 Model 158 Stepping 9, GenuineIntel\n",
       "CPU_count  8                                                  "
      ]
     },
     "execution_count": 3,
     "metadata": {},
     "output_type": "execute_result"
    }
   ],
   "source": [
    "pd.DataFrame({'info': [platform.platform(),\n",
    "                       platform.processor(),\n",
    "                       os.cpu_count()]},\n",
    "             index=['Platform', 'Processor', 'CPU_count'])"
   ]
  },
  {
   "cell_type": "markdown",
   "metadata": {},
   "source": [
    "## Define project"
   ]
  },
  {
   "cell_type": "code",
   "execution_count": 4,
   "metadata": {},
   "outputs": [],
   "source": [
    "project_name = 'MonteCarlo'\n",
    "technosphere = sp.Technosphere(project_name)\n",
    "common_data = spid.CommonData()\n",
    "ProcessMetaData = sppm.ProcessModelsMetaData.ProcessModelsMetaData"
   ]
  },
  {
   "cell_type": "code",
   "execution_count": 5,
   "metadata": {},
   "outputs": [],
   "source": [
    "# Treatment processes\n",
    "Treatment_processes = {}\n",
    "Treatment_processes['LF'] = {'input_type':ProcessMetaData['LF']['InputType'] , 'model':sppm.LF()}\n",
    "Treatment_processes['Composting'] = {'input_type':ProcessMetaData['Comp']['InputType'] , 'model':sppm.Comp()}\n",
    "Treatment_processes['AD'] = {'input_type':ProcessMetaData['AD']['InputType'] , 'model':sppm.AD()}\n",
    "Treatment_processes['WTE'] = {'input_type':ProcessMetaData['WTE']['InputType'] , 'model':sppm.WTE()}\n",
    "Treatment_processes['SS_MRF'] = {'input_type':ProcessMetaData['SS_MRF']['InputType'] , 'model':sppm.SS_MRF()}\n",
    "Treatment_processes['Reprocessing'] = {'input_type':ProcessMetaData['Reproc']['InputType'] , 'model':sppm.Reproc()}"
   ]
  },
  {
   "cell_type": "markdown",
   "metadata": {},
   "source": [
    "## Define Uncertainty (Treatement processes)"
   ]
  },
  {
   "cell_type": "code",
   "execution_count": 6,
   "metadata": {},
   "outputs": [],
   "source": [
    "## Landfill\n",
    "# Decay Rate\n",
    "Treatment_processes['LF']['model'].InputData.LF_gas['actk']['uncertainty_type'] = 4\n",
    "Treatment_processes['LF']['model'].InputData.LF_gas['actk']['loc'] = 0.04\n",
    "Treatment_processes['LF']['model'].InputData.LF_gas['actk']['minimum'] = 0.02\n",
    "Treatment_processes['LF']['model'].InputData.LF_gas['actk']['maximum'] = 0.17\n",
    "\n",
    "# Initial gas collection efficiency\n",
    "Treatment_processes['LF']['model'].InputData.LF_gas['initColEff']['uncertainty_type'] = 3\n",
    "Treatment_processes['LF']['model'].InputData.LF_gas['initColEff']['loc'] = 50\n",
    "Treatment_processes['LF']['model'].InputData.LF_gas['initColEff']['scale'] = 5\n",
    "\n",
    "# Gas collection efficiency under intermediate cover\n",
    "Treatment_processes['LF']['model'].InputData.LF_gas['intColEff']['uncertainty_type'] = 3\n",
    "Treatment_processes['LF']['model'].InputData.LF_gas['intColEff']['loc'] = 75\n",
    "Treatment_processes['LF']['model'].InputData.LF_gas['intColEff']['scale'] = 5\n",
    "\n",
    "# Increased gas collection efficiency \n",
    "Treatment_processes['LF']['model'].InputData.LF_gas['incColEff']['uncertainty_type'] = 3\n",
    "Treatment_processes['LF']['model'].InputData.LF_gas['incColEff']['loc'] = 82.5\n",
    "Treatment_processes['LF']['model'].InputData.LF_gas['incColEff']['scale'] = 3\n",
    "\n",
    "# Gas collection efficiency under final cover \n",
    "Treatment_processes['LF']['model'].InputData.LF_gas['finColEff']['uncertainty_type'] = 3\n",
    "Treatment_processes['LF']['model'].InputData.LF_gas['finColEff']['loc'] = 90\n",
    "Treatment_processes['LF']['model'].InputData.LF_gas['finColEff']['scale'] = 3\n",
    "\n",
    "# Combustion efficiency for electricity production  \n",
    "Treatment_processes['LF']['model'].InputData.LFG_Comb['convEff']['uncertainty_type'] = 3\n",
    "Treatment_processes['LF']['model'].InputData.LFG_Comb['convEff']['loc'] = 0.365\n",
    "Treatment_processes['LF']['model'].InputData.LFG_Comb['convEff']['scale'] = 0.03"
   ]
  },
  {
   "cell_type": "code",
   "execution_count": 7,
   "metadata": {},
   "outputs": [],
   "source": [
    "# WTE\n",
    "# Combustion efficiency for electricity production \n",
    "Treatment_processes['WTE']['model'].InputData.Elec_Prod_Eff['Gross_Efficiency']['uncertainty_type'] = 3\n",
    "Treatment_processes['WTE']['model'].InputData.Elec_Prod_Eff['Gross_Efficiency']['loc'] = 0.27\n",
    "Treatment_processes['WTE']['model'].InputData.Elec_Prod_Eff['Gross_Efficiency']['scale'] = 0.03\n",
    "\n",
    "# Aluminum Recovery Rate from Bottom Ash (fraction)\n",
    "Treatment_processes['WTE']['model'].InputData.Metals_Recovery['Al_Rec_Rate']['uncertainty_type'] = 4\n",
    "Treatment_processes['WTE']['model'].InputData.Metals_Recovery['Al_Rec_Rate']['loc'] = 0.65\n",
    "Treatment_processes['WTE']['model'].InputData.Metals_Recovery['Al_Rec_Rate']['minimum'] = 0.4\n",
    "Treatment_processes['WTE']['model'].InputData.Metals_Recovery['Al_Rec_Rate']['maximum'] = 0.75\n",
    "\n",
    "# Ferrous Recovery Rate from Bottom Ash (fraction)\n",
    "Treatment_processes['WTE']['model'].InputData.Metals_Recovery['Al_Rec_Rate']['uncertainty_type'] = 4\n",
    "Treatment_processes['WTE']['model'].InputData.Metals_Recovery['Al_Rec_Rate']['loc'] = 0.9\n",
    "Treatment_processes['WTE']['model'].InputData.Metals_Recovery['Al_Rec_Rate']['minimum'] = 0.7\n",
    "Treatment_processes['WTE']['model'].InputData.Metals_Recovery['Al_Rec_Rate']['maximum'] = 0.95"
   ]
  },
  {
   "cell_type": "code",
   "execution_count": 8,
   "metadata": {},
   "outputs": [],
   "source": [
    "# Reprocessing\n",
    "# Electricity saving by reprocessing aluminum (kWh) \n",
    "Treatment_processes['Reprocessing']['model'].InputData.Al[('Technosphere', 'Electricity_production')]['uncertainty_type'] = 3\n",
    "Treatment_processes['Reprocessing']['model'].InputData.Al[('Technosphere', 'Electricity_production')]['loc'] = 15343\n",
    "Treatment_processes['Reprocessing']['model'].InputData.Al[('Technosphere', 'Electricity_production')]['scale'] = 500\n",
    "\n",
    "# Electricity saving by reprocessing ferrous  (kWh) \n",
    "Treatment_processes['Reprocessing']['model'].InputData.Fe[('Technosphere', 'Electricity_production')]['uncertainty_type'] = 3\n",
    "Treatment_processes['Reprocessing']['model'].InputData.Fe[('Technosphere', 'Electricity_production')]['loc'] = 894.08\n",
    "Treatment_processes['Reprocessing']['model'].InputData.Fe[('Technosphere', 'Electricity_production')]['scale'] = 100"
   ]
  },
  {
   "cell_type": "markdown",
   "metadata": {},
   "source": [
    "## Define Uncertainty (Collection)"
   ]
  },
  {
   "cell_type": "code",
   "execution_count": 9,
   "metadata": {},
   "outputs": [
    {
     "data": {
      "text/html": [
       "<div>\n",
       "<style scoped>\n",
       "    .dataframe tbody tr th:only-of-type {\n",
       "        vertical-align: middle;\n",
       "    }\n",
       "\n",
       "    .dataframe tbody tr th {\n",
       "        vertical-align: top;\n",
       "    }\n",
       "\n",
       "    .dataframe thead th {\n",
       "        text-align: right;\n",
       "    }\n",
       "</style>\n",
       "<table border=\"1\" class=\"dataframe\">\n",
       "  <thead>\n",
       "    <tr style=\"text-align: right;\">\n",
       "      <th></th>\n",
       "      <th>LF</th>\n",
       "      <th>Composting</th>\n",
       "      <th>AD</th>\n",
       "      <th>WTE</th>\n",
       "      <th>SS_MRF</th>\n",
       "      <th>Reprocessing</th>\n",
       "      <th>Collection</th>\n",
       "    </tr>\n",
       "  </thead>\n",
       "  <tbody>\n",
       "    <tr>\n",
       "      <th>LF</th>\n",
       "      <td>NaN</td>\n",
       "      <td>30.0</td>\n",
       "      <td>30.0</td>\n",
       "      <td>30.0</td>\n",
       "      <td>30.0</td>\n",
       "      <td>30.0</td>\n",
       "      <td>30.0</td>\n",
       "    </tr>\n",
       "    <tr>\n",
       "      <th>Composting</th>\n",
       "      <td>NaN</td>\n",
       "      <td>NaN</td>\n",
       "      <td>30.0</td>\n",
       "      <td>30.0</td>\n",
       "      <td>30.0</td>\n",
       "      <td>30.0</td>\n",
       "      <td>30.0</td>\n",
       "    </tr>\n",
       "    <tr>\n",
       "      <th>AD</th>\n",
       "      <td>NaN</td>\n",
       "      <td>NaN</td>\n",
       "      <td>NaN</td>\n",
       "      <td>30.0</td>\n",
       "      <td>30.0</td>\n",
       "      <td>30.0</td>\n",
       "      <td>30.0</td>\n",
       "    </tr>\n",
       "    <tr>\n",
       "      <th>WTE</th>\n",
       "      <td>NaN</td>\n",
       "      <td>NaN</td>\n",
       "      <td>NaN</td>\n",
       "      <td>NaN</td>\n",
       "      <td>30.0</td>\n",
       "      <td>30.0</td>\n",
       "      <td>30.0</td>\n",
       "    </tr>\n",
       "    <tr>\n",
       "      <th>SS_MRF</th>\n",
       "      <td>NaN</td>\n",
       "      <td>NaN</td>\n",
       "      <td>NaN</td>\n",
       "      <td>NaN</td>\n",
       "      <td>NaN</td>\n",
       "      <td>30.0</td>\n",
       "      <td>30.0</td>\n",
       "    </tr>\n",
       "    <tr>\n",
       "      <th>Reprocessing</th>\n",
       "      <td>NaN</td>\n",
       "      <td>NaN</td>\n",
       "      <td>NaN</td>\n",
       "      <td>NaN</td>\n",
       "      <td>NaN</td>\n",
       "      <td>NaN</td>\n",
       "      <td>30.0</td>\n",
       "    </tr>\n",
       "    <tr>\n",
       "      <th>Collection</th>\n",
       "      <td>NaN</td>\n",
       "      <td>NaN</td>\n",
       "      <td>NaN</td>\n",
       "      <td>NaN</td>\n",
       "      <td>NaN</td>\n",
       "      <td>NaN</td>\n",
       "      <td>NaN</td>\n",
       "    </tr>\n",
       "  </tbody>\n",
       "</table>\n",
       "</div>"
      ],
      "text/plain": [
       "              LF  Composting    AD   WTE  SS_MRF  Reprocessing  Collection\n",
       "LF           NaN  30.0        30.0  30.0  30.0    30.0          30.0      \n",
       "Composting   NaN NaN          30.0  30.0  30.0    30.0          30.0      \n",
       "AD           NaN NaN         NaN    30.0  30.0    30.0          30.0      \n",
       "WTE          NaN NaN         NaN   NaN    30.0    30.0          30.0      \n",
       "SS_MRF       NaN NaN         NaN   NaN   NaN      30.0          30.0      \n",
       "Reprocessing NaN NaN         NaN   NaN   NaN     NaN            30.0      \n",
       "Collection   NaN NaN         NaN   NaN   NaN     NaN           NaN        "
      ]
     },
     "execution_count": 9,
     "metadata": {},
     "output_type": "execute_result"
    }
   ],
   "source": [
    "# Distance\n",
    "Processes = ['LF', 'Composting', 'AD', 'WTE', 'SS_MRF', 'Reprocessing', 'Collection']\n",
    "data = sppm.Distance.create_distance_table(process_names=Processes,\n",
    "                                           transport_modes=['Heavy Duty Truck'],\n",
    "                                           default_dist=30)\n",
    "\n",
    "distance = sppm.Distance(data)          \n",
    "data['Heavy Duty Truck']"
   ]
  },
  {
   "cell_type": "code",
   "execution_count": 10,
   "metadata": {},
   "outputs": [],
   "source": [
    "# Collection_processes:\n",
    "# Only include one single family sector wih residual waste collection\n",
    "Collection_scheme = sppm.SF_Col.scheme()\n",
    "Collection_scheme[('RWC', 'N/A', 'SSR')] = 1\n",
    "Collection_processes = {}\n",
    "Collection_processes['Collection'] = {'input_type': [],\n",
    "                                      'model': sppm.SF_Col('Collection', Collection_scheme,\n",
    "                                                      Treatment_processes=Treatment_processes,\n",
    "                                                      Distance=distance)}"
   ]
  },
  {
   "cell_type": "code",
   "execution_count": 11,
   "metadata": {},
   "outputs": [],
   "source": [
    "# Collection\n",
    "# Residential Generation rate (kg/person-day) \n",
    "Collection_processes['Collection']['model'].InputData.Col['res_gen']['uncertainty_type'] = 3\n",
    "Collection_processes['Collection']['model'].InputData.Col['res_gen']['loc'] = 2.05\n",
    "Collection_processes['Collection']['model'].InputData.Col['res_gen']['scale'] = 0.05"
   ]
  },
  {
   "cell_type": "markdown",
   "metadata": {},
   "source": [
    "## Write project"
   ]
  },
  {
   "cell_type": "code",
   "execution_count": 12,
   "metadata": {},
   "outputs": [
    {
     "name": "stdout",
     "output_type": "stream",
     "text": [
      "Biosphere database already present!!! No setup is needed\n",
      "Vacuuming database \n",
      "Vacuuming database \n"
     ]
    },
    {
     "name": "stderr",
     "output_type": "stream",
     "text": [
      "Writing activities to SQLite3 database:\n"
     ]
    },
    {
     "name": "stdout",
     "output_type": "stream",
     "text": [
      "\n",
      "                ####\n",
      "                ++++++  Writing the Technosphere\n",
      "                \n"
     ]
    },
    {
     "name": "stderr",
     "output_type": "stream",
     "text": [
      "0% [##############################] 100% | ETA: 00:00:00\n",
      "Total time elapsed: 00:00:12\n"
     ]
    },
    {
     "name": "stdout",
     "output_type": "stream",
     "text": [
      "Title: Writing activities to SQLite3 database:\n",
      "  Started: 07/01/2021 12:35:00\n",
      "  Finished: 07/01/2021 12:35:13\n",
      "  Total time elapsed: 00:00:12\n",
      "  CPU %: 47.20\n",
      "  Memory %: 1.34\n"
     ]
    },
    {
     "name": "stderr",
     "output_type": "stream",
     "text": [
      "Writing activities to SQLite3 database:\n"
     ]
    },
    {
     "name": "stdout",
     "output_type": "stream",
     "text": [
      "\n",
      "              ####\n",
      "              ++++++ Initializing the LF\n",
      "              \n"
     ]
    },
    {
     "name": "stderr",
     "output_type": "stream",
     "text": [
      "0% [##############################] 100% | ETA: 00:00:00\n",
      "Total time elapsed: 00:00:00\n",
      "Writing activities to SQLite3 database:\n"
     ]
    },
    {
     "name": "stdout",
     "output_type": "stream",
     "text": [
      "Title: Writing activities to SQLite3 database:\n",
      "  Started: 07/01/2021 12:35:14\n",
      "  Finished: 07/01/2021 12:35:14\n",
      "  Total time elapsed: 00:00:00\n",
      "  CPU %: 195.30\n",
      "  Memory %: 1.35\n",
      "\n",
      "              ####\n",
      "              ++++++ Initializing the Composting\n",
      "              \n"
     ]
    },
    {
     "name": "stderr",
     "output_type": "stream",
     "text": [
      "0% [##############################] 100% | ETA: 00:00:00\n",
      "Total time elapsed: 00:00:00\n"
     ]
    },
    {
     "name": "stdout",
     "output_type": "stream",
     "text": [
      "Title: Writing activities to SQLite3 database:\n",
      "  Started: 07/01/2021 12:35:14\n",
      "  Finished: 07/01/2021 12:35:14\n",
      "  Total time elapsed: 00:00:00\n",
      "  CPU %: 104.20\n",
      "  Memory %: 1.35\n"
     ]
    },
    {
     "name": "stderr",
     "output_type": "stream",
     "text": [
      "Writing activities to SQLite3 database:\n"
     ]
    },
    {
     "name": "stdout",
     "output_type": "stream",
     "text": [
      "\n",
      "              ####\n",
      "              ++++++ Initializing the AD\n",
      "              \n"
     ]
    },
    {
     "name": "stderr",
     "output_type": "stream",
     "text": [
      "0% [##############################] 100% | ETA: 00:00:00\n",
      "Total time elapsed: 00:00:00\n"
     ]
    },
    {
     "name": "stdout",
     "output_type": "stream",
     "text": [
      "Title: Writing activities to SQLite3 database:\n",
      "  Started: 07/01/2021 12:35:14\n",
      "  Finished: 07/01/2021 12:35:14\n",
      "  Total time elapsed: 00:00:00\n",
      "  CPU %: 97.70\n",
      "  Memory %: 1.35\n",
      "\n",
      "              ####\n",
      "              ++++++ Initializing the WTE\n",
      "              "
     ]
    },
    {
     "name": "stderr",
     "output_type": "stream",
     "text": [
      "Writing activities to SQLite3 database:\n"
     ]
    },
    {
     "name": "stdout",
     "output_type": "stream",
     "text": [
      "\n"
     ]
    },
    {
     "name": "stderr",
     "output_type": "stream",
     "text": [
      "0% [##############################] 100% | ETA: 00:00:00\n",
      "Total time elapsed: 00:00:00\n"
     ]
    },
    {
     "name": "stdout",
     "output_type": "stream",
     "text": [
      "Title: Writing activities to SQLite3 database:\n",
      "  Started: 07/01/2021 12:35:14\n",
      "  Finished: 07/01/2021 12:35:14\n",
      "  Total time elapsed: 00:00:00\n",
      "  CPU %: 97.70\n",
      "  Memory %: 1.35\n",
      "\n",
      "              ####\n",
      "              ++++++ Initializing the SS_MRF\n",
      "              \n"
     ]
    },
    {
     "name": "stderr",
     "output_type": "stream",
     "text": [
      "Writing activities to SQLite3 database:\n",
      "0% [##############################] 100% | ETA: 00:00:00\n",
      "Total time elapsed: 00:00:00\n"
     ]
    },
    {
     "name": "stdout",
     "output_type": "stream",
     "text": [
      "Title: Writing activities to SQLite3 database:\n",
      "  Started: 07/01/2021 12:35:14\n",
      "  Finished: 07/01/2021 12:35:14\n",
      "  Total time elapsed: 00:00:00\n",
      "  CPU %: 208.30\n",
      "  Memory %: 1.35\n"
     ]
    },
    {
     "name": "stderr",
     "output_type": "stream",
     "text": [
      "Writing activities to SQLite3 database:\n"
     ]
    },
    {
     "name": "stdout",
     "output_type": "stream",
     "text": [
      "\n",
      "              ####\n",
      "              ++++++ Initializing the Reprocessing\n",
      "              \n"
     ]
    },
    {
     "name": "stderr",
     "output_type": "stream",
     "text": [
      "0% [###############] 100% | ETA: 00:00:00\n",
      "Total time elapsed: 00:00:00\n",
      "Writing activities to SQLite3 database:\n"
     ]
    },
    {
     "name": "stdout",
     "output_type": "stream",
     "text": [
      "Title: Writing activities to SQLite3 database:\n",
      "  Started: 07/01/2021 12:35:14\n",
      "  Finished: 07/01/2021 12:35:14\n",
      "  Total time elapsed: 00:00:00\n",
      "  CPU %: 97.70\n",
      "  Memory %: 1.35\n",
      "\n",
      "              ####\n",
      "              ++++++ Initializing the Collection\n",
      "              \n"
     ]
    },
    {
     "name": "stderr",
     "output_type": "stream",
     "text": [
      "0% [##############################] 100% | ETA: 00:00:00\n",
      "Total time elapsed: 00:00:00\n"
     ]
    },
    {
     "name": "stdout",
     "output_type": "stream",
     "text": [
      "Title: Writing activities to SQLite3 database:\n",
      "  Started: 07/01/2021 12:35:14\n",
      "  Finished: 07/01/2021 12:35:14\n",
      "  Total time elapsed: 00:00:00\n",
      "  CPU %: 100.80\n",
      "  Memory %: 1.35\n"
     ]
    },
    {
     "name": "stderr",
     "output_type": "stream",
     "text": [
      "Writing activities to SQLite3 database:\n"
     ]
    },
    {
     "name": "stdout",
     "output_type": "stream",
     "text": [
      "\n",
      "              ####\n",
      "              ++++++ Writing the LF\n",
      "              \n"
     ]
    },
    {
     "name": "stderr",
     "output_type": "stream",
     "text": [
      "0% [##############################] 100% | ETA: 00:00:00\n",
      "Total time elapsed: 00:00:00\n",
      "Writing activities to SQLite3 database:\n"
     ]
    },
    {
     "name": "stdout",
     "output_type": "stream",
     "text": [
      "Title: Writing activities to SQLite3 database:\n",
      "  Started: 07/01/2021 12:35:14\n",
      "  Finished: 07/01/2021 12:35:15\n",
      "  Total time elapsed: 00:00:00\n",
      "  CPU %: 46.00\n",
      "  Memory %: 1.37\n",
      "\n",
      "                  ####\n",
      "                  ++++++ Writing the Composting_product\n",
      "                  \n"
     ]
    },
    {
     "name": "stderr",
     "output_type": "stream",
     "text": [
      "0% [##############################] 100% | ETA: 00:00:00\n",
      "Total time elapsed: 00:00:00\n",
      "Writing activities to SQLite3 database:\n"
     ]
    },
    {
     "name": "stdout",
     "output_type": "stream",
     "text": [
      "Title: Writing activities to SQLite3 database:\n",
      "  Started: 07/01/2021 12:35:16\n",
      "  Finished: 07/01/2021 12:35:16\n",
      "  Total time elapsed: 00:00:00\n",
      "  CPU %: 99.70\n",
      "  Memory %: 1.37\n",
      "\n",
      "              ####\n",
      "              ++++++ Writing the Composting\n",
      "              \n"
     ]
    },
    {
     "name": "stderr",
     "output_type": "stream",
     "text": [
      "0% [##############################] 100% | ETA: 00:00:00\n",
      "Total time elapsed: 00:00:00\n",
      "Writing activities to SQLite3 database:\n"
     ]
    },
    {
     "name": "stdout",
     "output_type": "stream",
     "text": [
      "Title: Writing activities to SQLite3 database:\n",
      "  Started: 07/01/2021 12:35:16\n",
      "  Finished: 07/01/2021 12:35:16\n",
      "  Total time elapsed: 00:00:00\n",
      "  CPU %: 61.60\n",
      "  Memory %: 1.37\n",
      "\n",
      "                  ####\n",
      "                  ++++++ Writing the AD_product\n",
      "                  \n"
     ]
    },
    {
     "name": "stderr",
     "output_type": "stream",
     "text": [
      "0% [##############################] 100% | ETA: 00:00:00\n",
      "Total time elapsed: 00:00:00\n"
     ]
    },
    {
     "name": "stdout",
     "output_type": "stream",
     "text": [
      "Title: Writing activities to SQLite3 database:\n",
      "  Started: 07/01/2021 12:35:16\n",
      "  Finished: 07/01/2021 12:35:16\n",
      "  Total time elapsed: 00:00:00\n",
      "  CPU %: 66.50\n",
      "  Memory %: 1.38\n"
     ]
    },
    {
     "name": "stderr",
     "output_type": "stream",
     "text": [
      "Writing activities to SQLite3 database:\n"
     ]
    },
    {
     "name": "stdout",
     "output_type": "stream",
     "text": [
      "\n",
      "              ####\n",
      "              ++++++ Writing the AD\n",
      "              \n"
     ]
    },
    {
     "name": "stderr",
     "output_type": "stream",
     "text": [
      "0% [##############################] 100% | ETA: 00:00:00\n",
      "Total time elapsed: 00:00:00\n"
     ]
    },
    {
     "name": "stdout",
     "output_type": "stream",
     "text": [
      "Title: Writing activities to SQLite3 database:\n",
      "  Started: 07/01/2021 12:35:16\n",
      "  Finished: 07/01/2021 12:35:17\n",
      "  Total time elapsed: 00:00:00\n",
      "  CPU %: 53.90\n",
      "  Memory %: 1.38\n",
      "\n",
      "                  ####\n",
      "                  ++++++ Writing the WTE_product\n",
      "                  \n"
     ]
    },
    {
     "name": "stderr",
     "output_type": "stream",
     "text": [
      "Writing activities to SQLite3 database:\n",
      "0% [##############################] 100% | ETA: 00:00:00\n",
      "Total time elapsed: 00:00:00\n"
     ]
    },
    {
     "name": "stdout",
     "output_type": "stream",
     "text": [
      "Title: Writing activities to SQLite3 database:\n",
      "  Started: 07/01/2021 12:35:17\n",
      "  Finished: 07/01/2021 12:35:17\n",
      "  Total time elapsed: 00:00:00\n",
      "  CPU %: 50.40\n",
      "  Memory %: 1.39\n"
     ]
    },
    {
     "name": "stderr",
     "output_type": "stream",
     "text": [
      "Writing activities to SQLite3 database:\n"
     ]
    },
    {
     "name": "stdout",
     "output_type": "stream",
     "text": [
      "\n",
      "              ####\n",
      "              ++++++ Writing the WTE\n",
      "              \n"
     ]
    },
    {
     "name": "stderr",
     "output_type": "stream",
     "text": [
      "0% [##############################] 100% | ETA: 00:00:00\n",
      "Total time elapsed: 00:00:00\n"
     ]
    },
    {
     "name": "stdout",
     "output_type": "stream",
     "text": [
      "Title: Writing activities to SQLite3 database:\n",
      "  Started: 07/01/2021 12:35:17\n",
      "  Finished: 07/01/2021 12:35:18\n",
      "  Total time elapsed: 00:00:00\n",
      "  CPU %: 47.00\n",
      "  Memory %: 1.39\n",
      "\n",
      "                  ####\n",
      "                  ++++++ Writing the SS_MRF_product\n",
      "                  \n"
     ]
    },
    {
     "name": "stderr",
     "output_type": "stream",
     "text": [
      "Writing activities to SQLite3 database:\n",
      "0% [##############################] 100% | ETA: 00:00:00\n",
      "Total time elapsed: 00:00:00\n"
     ]
    },
    {
     "name": "stdout",
     "output_type": "stream",
     "text": [
      "Title: Writing activities to SQLite3 database:\n",
      "  Started: 07/01/2021 12:35:18\n",
      "  Finished: 07/01/2021 12:35:18\n",
      "  Total time elapsed: 00:00:00\n",
      "  CPU %: 57.10\n",
      "  Memory %: 1.40\n"
     ]
    },
    {
     "name": "stderr",
     "output_type": "stream",
     "text": [
      "Writing activities to SQLite3 database:\n"
     ]
    },
    {
     "name": "stdout",
     "output_type": "stream",
     "text": [
      "\n",
      "              ####\n",
      "              ++++++ Writing the SS_MRF\n",
      "              \n"
     ]
    },
    {
     "name": "stderr",
     "output_type": "stream",
     "text": [
      "0% [##############################] 100% | ETA: 00:00:00\n",
      "Total time elapsed: 00:00:00\n",
      "Writing activities to SQLite3 database:\n"
     ]
    },
    {
     "name": "stdout",
     "output_type": "stream",
     "text": [
      "Title: Writing activities to SQLite3 database:\n",
      "  Started: 07/01/2021 12:35:19\n",
      "  Finished: 07/01/2021 12:35:19\n",
      "  Total time elapsed: 00:00:00\n",
      "  CPU %: 54.50\n",
      "  Memory %: 1.41\n",
      "\n",
      "              ####\n",
      "              ++++++ Writing the Reprocessing\n",
      "              \n"
     ]
    },
    {
     "name": "stderr",
     "output_type": "stream",
     "text": [
      "0% [###############] 100% | ETA: 00:00:00\n",
      "Total time elapsed: 00:00:00\n"
     ]
    },
    {
     "name": "stdout",
     "output_type": "stream",
     "text": [
      "Title: Writing activities to SQLite3 database:\n",
      "  Started: 07/01/2021 12:35:19\n",
      "  Finished: 07/01/2021 12:35:19\n",
      "  Total time elapsed: 00:00:00\n",
      "  CPU %: 60.10\n",
      "  Memory %: 1.41\n",
      "\n",
      "                  ####\n",
      "                  ++++++ Writing the Collection_product\n",
      "                  \n"
     ]
    },
    {
     "name": "stderr",
     "output_type": "stream",
     "text": [
      "Writing activities to SQLite3 database:\n",
      "0% [##############################] 100% | ETA: 00:00:00\n",
      "Total time elapsed: 00:00:00\n"
     ]
    },
    {
     "name": "stdout",
     "output_type": "stream",
     "text": [
      "Title: Writing activities to SQLite3 database:\n",
      "  Started: 07/01/2021 12:35:20\n",
      "  Finished: 07/01/2021 12:35:20\n",
      "  Total time elapsed: 00:00:00\n",
      "  CPU %: 44.60\n",
      "  Memory %: 1.41\n"
     ]
    },
    {
     "name": "stderr",
     "output_type": "stream",
     "text": [
      "Writing activities to SQLite3 database:\n"
     ]
    },
    {
     "name": "stdout",
     "output_type": "stream",
     "text": [
      "\n",
      "              ####\n",
      "              ++++++ Writing the Collection\n",
      "              \n"
     ]
    },
    {
     "name": "stderr",
     "output_type": "stream",
     "text": [
      "0% [##############################] 100% | ETA: 00:00:00\n",
      "Total time elapsed: 00:00:00\n"
     ]
    },
    {
     "name": "stdout",
     "output_type": "stream",
     "text": [
      "Title: Writing activities to SQLite3 database:\n",
      "  Started: 07/01/2021 12:35:21\n",
      "  Finished: 07/01/2021 12:35:21\n",
      "  Total time elapsed: 00:00:00\n",
      "  CPU %: 62.50\n",
      "  Memory %: 1.42\n",
      "\n",
      "                  Grouping the exchanges with parameters in Database LF\n",
      "                  \n",
      "\n",
      "                  Grouping the exchanges with parameters in Database Composting\n",
      "                  \n",
      "\n",
      "                  Grouping the exchanges with parameters in Database AD\n",
      "                  \n",
      "\n",
      "                  Grouping the exchanges with parameters in Database WTE\n",
      "                  \n",
      "\n",
      "                  Grouping the exchanges with parameters in Database SS_MRF\n",
      "                  \n",
      "\n",
      "                  Grouping the exchanges with parameters in Database Reprocessing\n",
      "                  \n",
      "\n",
      "                  Grouping the exchanges with parameters in Database Collection\n",
      "                  \n",
      "Time for writing the project: 75 second\n"
     ]
    }
   ],
   "source": [
    "start = time()\n",
    "demo = sp.Project(project_name, common_data, Treatment_processes, distance, Collection_processes, technosphere)\n",
    "demo.init_project()\n",
    "demo.write_project()\n",
    "demo.group_exchanges()\n",
    "print(\"Time for writing the project: {} second\".format(round(time()-start)))"
   ]
  },
  {
   "cell_type": "markdown",
   "metadata": {},
   "source": [
    "### Update parameters according to Scenario 2"
   ]
  },
  {
   "cell_type": "code",
   "execution_count": 13,
   "metadata": {},
   "outputs": [],
   "source": [
    "new_param = [{'name': 'frac_of_Other_Residual_from_Composting_to_LF', 'amount': 0},\n",
    "             {'name': 'frac_of_Other_Residual_from_Composting_to_WTE', 'amount': 1},\n",
    "             {'name': 'frac_of_Other_Residual_from_AD_to_LF', 'amount': 0},\n",
    "             {'name': 'frac_of_Other_Residual_from_AD_to_WTE', 'amount': 1},\n",
    "             {'name': 'frac_of_Other_Residual_from_SS_MRF_to_LF', 'amount': 0},\n",
    "             {'name': 'frac_of_Other_Residual_from_SS_MRF_to_WTE', 'amount': 1},\n",
    "             {'name': 'frac_of_RWC_from_Collection_to_LF', 'amount': 0},\n",
    "             {'name': 'frac_of_RWC_from_Collection_to_WTE', 'amount': 1},\n",
    "             {'name': 'frac_of_SSO_from_Collection_to_Composting', 'amount': 0},\n",
    "             {'name': 'frac_of_SSO_from_Collection_to_AD', 'amount': 1},\n",
    "             {'name': 'frac_of_MRDO_from_Collection_to_LF', 'amount': 0},\n",
    "             {'name': 'frac_of_MRDO_from_Collection_to_WTE', 'amount': 1}]"
   ]
  },
  {
   "cell_type": "code",
   "execution_count": 14,
   "metadata": {},
   "outputs": [
    {
     "name": "stdout",
     "output_type": "stream",
     "text": [
      "Time for updating the parameters: 9 second\n"
     ]
    }
   ],
   "source": [
    "start = time()\n",
    "demo.update_parameters(new_param)\n",
    "print(\"Time for updating the parameters: {} second\".format(round(time()-start)))"
   ]
  },
  {
   "cell_type": "markdown",
   "metadata": {},
   "source": [
    "### Create scenario"
   ]
  },
  {
   "cell_type": "code",
   "execution_count": 15,
   "metadata": {},
   "outputs": [],
   "source": [
    "input_dict = {'Collection':{}}\n",
    "\n",
    "for key in common_data.Index:\n",
    "    input_dict['Collection'][key]=1\n",
    "demo.create_scenario(input_dict,'Collection')"
   ]
  },
  {
   "cell_type": "markdown",
   "metadata": {},
   "source": [
    "### Default results for Scenario 2"
   ]
  },
  {
   "cell_type": "code",
   "execution_count": 16,
   "metadata": {},
   "outputs": [
    {
     "data": {
      "text/html": [
       "<div>\n",
       "<style scoped>\n",
       "    .dataframe tbody tr th:only-of-type {\n",
       "        vertical-align: middle;\n",
       "    }\n",
       "\n",
       "    .dataframe tbody tr th {\n",
       "        vertical-align: top;\n",
       "    }\n",
       "\n",
       "    .dataframe thead th {\n",
       "        text-align: right;\n",
       "    }\n",
       "</style>\n",
       "<table border=\"1\" class=\"dataframe\">\n",
       "  <thead>\n",
       "    <tr style=\"text-align: right;\">\n",
       "      <th></th>\n",
       "      <th>Value</th>\n",
       "      <th>Unit</th>\n",
       "    </tr>\n",
       "  </thead>\n",
       "  <tbody>\n",
       "    <tr>\n",
       "      <th>Diversion</th>\n",
       "      <td>87.32</td>\n",
       "      <td>%</td>\n",
       "    </tr>\n",
       "    <tr>\n",
       "      <th>GWP</th>\n",
       "      <td>-574.17</td>\n",
       "      <td>kg CO2/Mg</td>\n",
       "    </tr>\n",
       "    <tr>\n",
       "      <th>Operation Cost</th>\n",
       "      <td>15.57</td>\n",
       "      <td>$/Mg</td>\n",
       "    </tr>\n",
       "    <tr>\n",
       "      <th>Capital cost</th>\n",
       "      <td>35.28</td>\n",
       "      <td>$/Mg</td>\n",
       "    </tr>\n",
       "    <tr>\n",
       "      <th>Total cost</th>\n",
       "      <td>50.86</td>\n",
       "      <td>$/Mg</td>\n",
       "    </tr>\n",
       "    <tr>\n",
       "      <th>Collection</th>\n",
       "      <td>74621</td>\n",
       "      <td>Mg/yr</td>\n",
       "    </tr>\n",
       "    <tr>\n",
       "      <th>LF</th>\n",
       "      <td>9460</td>\n",
       "      <td>Mg/yr</td>\n",
       "    </tr>\n",
       "    <tr>\n",
       "      <th>WTE</th>\n",
       "      <td>58759</td>\n",
       "      <td>Mg/yr</td>\n",
       "    </tr>\n",
       "    <tr>\n",
       "      <th>Composting</th>\n",
       "      <td>0</td>\n",
       "      <td>Mg/yr</td>\n",
       "    </tr>\n",
       "    <tr>\n",
       "      <th>AD</th>\n",
       "      <td>0</td>\n",
       "      <td>Mg/yr</td>\n",
       "    </tr>\n",
       "    <tr>\n",
       "      <th>SS_MRF</th>\n",
       "      <td>18305</td>\n",
       "      <td>Mg/yr</td>\n",
       "    </tr>\n",
       "    <tr>\n",
       "      <th>Reprocessing</th>\n",
       "      <td>17809</td>\n",
       "      <td>Mg/yr</td>\n",
       "    </tr>\n",
       "  </tbody>\n",
       "</table>\n",
       "</div>"
      ],
      "text/plain": [
       "                 Value       Unit\n",
       "Diversion       87.32   %        \n",
       "GWP            -574.17  kg CO2/Mg\n",
       "Operation Cost  15.57   $/Mg     \n",
       "Capital cost    35.28   $/Mg     \n",
       "Total cost      50.86   $/Mg     \n",
       "Collection      74621   Mg/yr    \n",
       "LF              9460    Mg/yr    \n",
       "WTE             58759   Mg/yr    \n",
       "Composting      0       Mg/yr    \n",
       "AD              0       Mg/yr    \n",
       "SS_MRF          18305   Mg/yr    \n",
       "Reprocessing    17809   Mg/yr    "
      ]
     },
     "execution_count": 16,
     "metadata": {},
     "output_type": "execute_result"
    }
   ],
   "source": [
    "results = pd.DataFrame(columns=['Value', 'Unit'],\n",
    "                       index=['Diversion','GWP','Operation Cost','Capital cost','Total cost',\n",
    "                              'Collection','LF','WTE','Composting','AD','SS_MRF','Reprocessing'])\n",
    "\n",
    "bw2.projects.set_current(project_name)\n",
    "Demand = {('waste', 'Collection'):1}\n",
    "FU=bw2.get_activity(('waste', 'Collection'))\n",
    "method = ('IPCC 2013', 'climate change', 'GWP 100a')\n",
    "lca=bw2.LCA(Demand,method)\n",
    "lca.lci()\n",
    "lca.lcia()\n",
    "results.loc['GWP',:] = [round(lca.score/float(FU.as_dict()['unit'].split(' ')[0]),2), 'kg CO2/Mg']\n",
    "\n",
    "lca.switch_method(('SwolfPy_Operational_Cost', 'SwolfPy'))\n",
    "lca.lcia()\n",
    "results.loc['Operation Cost',:] = [round(lca.score/float(FU.as_dict()['unit'].split(' ')[0]),2), '$/Mg']\n",
    "\n",
    "\n",
    "lca.switch_method(('SwolfPy_Capital_Cost', 'SwolfPy'))\n",
    "lca.lcia()\n",
    "results.loc['Capital cost',:] = [round(lca.score/float(FU.as_dict()['unit'].split(' ')[0]),2), '$/Mg']\n",
    "\n",
    "lca.switch_method(('SwolfPy_Total_Cost', 'SwolfPy'))\n",
    "lca.lcia()\n",
    "results.loc['Total cost',:] = [round(lca.score/float(FU.as_dict()['unit'].split(' ')[0]),2), '$/Mg']\n",
    "\n",
    "for process in ['Collection','LF','WTE','Composting','AD','SS_MRF','Reprocessing']:\n",
    "    results.loc[process,:] = [round(sp.LCA_matrix.LCA_matrix.get_mass_flow(lca, process)), 'Mg/yr']\n",
    "\n",
    "results.loc['Diversion',:] = [round((1-results['Value']['LF']/results['Value']['Collection'])*100,2), '%']\n",
    "results"
   ]
  },
  {
   "cell_type": "markdown",
   "metadata": {},
   "source": [
    "## Monte Carlo simulation"
   ]
  },
  {
   "cell_type": "code",
   "execution_count": 17,
   "metadata": {},
   "outputs": [],
   "source": [
    "process_models = []\n",
    "process_model_names = []\n",
    "\n",
    "for P in demo.Treatment_processes:\n",
    "    process_models.append(demo.Treatment_processes[P]['model'])\n",
    "    process_model_names.append(P)\n",
    "    \n",
    "\n",
    "mc = sp.Monte_Carlo(functional_unit=Demand,\n",
    "                    method=[method],\n",
    "                    project=demo.project_name,\n",
    "                    process_models=process_models,\n",
    "                    process_model_names= process_model_names,\n",
    "                    seed=0)                    "
   ]
  },
  {
   "cell_type": "code",
   "execution_count": 18,
   "metadata": {},
   "outputs": [],
   "source": [
    "mc.run(os.cpu_count(), 10000)"
   ]
  },
  {
   "cell_type": "code",
   "execution_count": 3,
   "metadata": {},
   "outputs": [
    {
     "data": {
      "text/html": [
       "<div>\n",
       "<style scoped>\n",
       "    .dataframe tbody tr th:only-of-type {\n",
       "        vertical-align: middle;\n",
       "    }\n",
       "\n",
       "    .dataframe tbody tr th {\n",
       "        vertical-align: top;\n",
       "    }\n",
       "\n",
       "    .dataframe thead th {\n",
       "        text-align: right;\n",
       "    }\n",
       "</style>\n",
       "<table border=\"1\" class=\"dataframe\">\n",
       "  <thead>\n",
       "    <tr style=\"text-align: right;\">\n",
       "      <th></th>\n",
       "      <th>(IPCC 2013, climate change, GWP 100a)</th>\n",
       "      <th>(LF, Landfill Gas Parameters, actk)</th>\n",
       "      <th>(LF, Landfill Gas Parameters, initColEff)</th>\n",
       "      <th>(LF, Landfill Gas Parameters, intColEff)</th>\n",
       "      <th>(LF, Landfill Gas Parameters, incColEff)</th>\n",
       "      <th>(LF, Landfill Gas Parameters, finColEff)</th>\n",
       "      <th>(LF, LFG combustion, convEff)</th>\n",
       "      <th>(WTE, Elec_Prod_Eff, Gross_Efficiency)</th>\n",
       "      <th>(WTE, Metals_Recovery, Al_Rec_Rate)</th>\n",
       "      <th>(Reproc, Al, (Technosphere, Electricity_production))</th>\n",
       "      <th>(Reproc, Fe, (Technosphere, Electricity_production))</th>\n",
       "      <th>(Collection, SF_Collection, res_gen)</th>\n",
       "    </tr>\n",
       "  </thead>\n",
       "  <tbody>\n",
       "    <tr>\n",
       "      <th>0</th>\n",
       "      <td>-5.217797e+07</td>\n",
       "      <td>0.085638</td>\n",
       "      <td>54.893690</td>\n",
       "      <td>77.000786</td>\n",
       "      <td>88.102674</td>\n",
       "      <td>96.722680</td>\n",
       "      <td>0.417922</td>\n",
       "      <td>0.323659</td>\n",
       "      <td>0.772726</td>\n",
       "      <td>15563.613743</td>\n",
       "      <td>860.992985</td>\n",
       "      <td>2.034411</td>\n",
       "    </tr>\n",
       "    <tr>\n",
       "      <th>1</th>\n",
       "      <td>-4.857146e+07</td>\n",
       "      <td>0.158839</td>\n",
       "      <td>47.470617</td>\n",
       "      <td>81.330593</td>\n",
       "      <td>85.742436</td>\n",
       "      <td>97.635602</td>\n",
       "      <td>0.335682</td>\n",
       "      <td>0.283095</td>\n",
       "      <td>0.827707</td>\n",
       "      <td>16558.385594</td>\n",
       "      <td>868.870787</td>\n",
       "      <td>2.086450</td>\n",
       "    </tr>\n",
       "    <tr>\n",
       "      <th>2</th>\n",
       "      <td>-4.313855e+07</td>\n",
       "      <td>0.041503</td>\n",
       "      <td>57.470395</td>\n",
       "      <td>76.668372</td>\n",
       "      <td>83.439203</td>\n",
       "      <td>89.384525</td>\n",
       "      <td>0.378316</td>\n",
       "      <td>0.261678</td>\n",
       "      <td>0.712867</td>\n",
       "      <td>15397.804921</td>\n",
       "      <td>1052.328112</td>\n",
       "      <td>2.060891</td>\n",
       "    </tr>\n",
       "    <tr>\n",
       "      <th>3</th>\n",
       "      <td>-4.170034e+07</td>\n",
       "      <td>0.136135</td>\n",
       "      <td>53.402836</td>\n",
       "      <td>75.167195</td>\n",
       "      <td>80.799907</td>\n",
       "      <td>85.309510</td>\n",
       "      <td>0.339377</td>\n",
       "      <td>0.259357</td>\n",
       "      <td>0.810202</td>\n",
       "      <td>14888.383798</td>\n",
       "      <td>834.916334</td>\n",
       "      <td>2.005045</td>\n",
       "    </tr>\n",
       "    <tr>\n",
       "      <th>4</th>\n",
       "      <td>-4.235905e+07</td>\n",
       "      <td>0.161562</td>\n",
       "      <td>50.228793</td>\n",
       "      <td>67.728172</td>\n",
       "      <td>87.098338</td>\n",
       "      <td>89.438448</td>\n",
       "      <td>0.433093</td>\n",
       "      <td>0.268685</td>\n",
       "      <td>0.862286</td>\n",
       "      <td>15436.801613</td>\n",
       "      <td>861.093004</td>\n",
       "      <td>1.925661</td>\n",
       "    </tr>\n",
       "  </tbody>\n",
       "</table>\n",
       "</div>"
      ],
      "text/plain": [
       "   (IPCC 2013, climate change, GWP 100a)  (LF, Landfill Gas Parameters, actk)  \\\n",
       "0 -5.217797e+07                           0.085638                              \n",
       "1 -4.857146e+07                           0.158839                              \n",
       "2 -4.313855e+07                           0.041503                              \n",
       "3 -4.170034e+07                           0.136135                              \n",
       "4 -4.235905e+07                           0.161562                              \n",
       "\n",
       "   (LF, Landfill Gas Parameters, initColEff)  \\\n",
       "0  54.893690                                   \n",
       "1  47.470617                                   \n",
       "2  57.470395                                   \n",
       "3  53.402836                                   \n",
       "4  50.228793                                   \n",
       "\n",
       "   (LF, Landfill Gas Parameters, intColEff)  \\\n",
       "0  77.000786                                  \n",
       "1  81.330593                                  \n",
       "2  76.668372                                  \n",
       "3  75.167195                                  \n",
       "4  67.728172                                  \n",
       "\n",
       "   (LF, Landfill Gas Parameters, incColEff)  \\\n",
       "0  88.102674                                  \n",
       "1  85.742436                                  \n",
       "2  83.439203                                  \n",
       "3  80.799907                                  \n",
       "4  87.098338                                  \n",
       "\n",
       "   (LF, Landfill Gas Parameters, finColEff)  (LF, LFG combustion, convEff)  \\\n",
       "0  96.722680                                 0.417922                        \n",
       "1  97.635602                                 0.335682                        \n",
       "2  89.384525                                 0.378316                        \n",
       "3  85.309510                                 0.339377                        \n",
       "4  89.438448                                 0.433093                        \n",
       "\n",
       "   (WTE, Elec_Prod_Eff, Gross_Efficiency)  \\\n",
       "0  0.323659                                 \n",
       "1  0.283095                                 \n",
       "2  0.261678                                 \n",
       "3  0.259357                                 \n",
       "4  0.268685                                 \n",
       "\n",
       "   (WTE, Metals_Recovery, Al_Rec_Rate)  \\\n",
       "0  0.772726                              \n",
       "1  0.827707                              \n",
       "2  0.712867                              \n",
       "3  0.810202                              \n",
       "4  0.862286                              \n",
       "\n",
       "   (Reproc, Al, (Technosphere, Electricity_production))  \\\n",
       "0  15563.613743                                           \n",
       "1  16558.385594                                           \n",
       "2  15397.804921                                           \n",
       "3  14888.383798                                           \n",
       "4  15436.801613                                           \n",
       "\n",
       "   (Reproc, Fe, (Technosphere, Electricity_production))  \\\n",
       "0  860.992985                                             \n",
       "1  868.870787                                             \n",
       "2  1052.328112                                            \n",
       "3  834.916334                                             \n",
       "4  861.093004                                             \n",
       "\n",
       "   (Collection, SF_Collection, res_gen)  \n",
       "0  2.034411                              \n",
       "1  2.086450                              \n",
       "2  2.060891                              \n",
       "3  2.005045                              \n",
       "4  1.925661                              "
      ]
     },
     "execution_count": 3,
     "metadata": {},
     "output_type": "execute_result"
    }
   ],
   "source": [
    "mc_results=mc.result_to_DF()\n",
    "mc_results.to_pickle('MC_results.pickle')\n",
    "#mc_results = pd.read_pickle('MC_results.pickle')\n",
    "mc_results.head()"
   ]
  },
  {
   "cell_type": "code",
   "execution_count": 9,
   "metadata": {},
   "outputs": [
    {
     "data": {
      "text/plain": [
       "<AxesSubplot:>"
      ]
     },
     "execution_count": 9,
     "metadata": {},
     "output_type": "execute_result"
    },
    {
     "data": {
      "image/png": "[encoded data removed]",
      "text/plain": [
       "<Figure size 432x288 with 2 Axes>"
      ]
     },
     "metadata": {
      "needs_background": "light"
     },
     "output_type": "display_data"
    }
   ],
   "source": [
    "corr = mc_results.corr(method='pearson')\n",
    "mask = np.zeros_like(corr)\n",
    "mask[np.triu_indices_from(mask)] = True\n",
    "sns.heatmap(corr,mask=mask,cmap='coolwarm')"
   ]
  },
  {
   "cell_type": "code",
   "execution_count": 11,
   "metadata": {},
   "outputs": [
    {
     "name": "stderr",
     "output_type": "stream",
     "text": [
      "c:\\users\\msardar2\\.conda\\envs\\dev\\lib\\site-packages\\numpy\\core\\_asarray.py:102: VisibleDeprecationWarning:\n",
      "\n",
      "Creating an ndarray from ragged nested sequences (which is a list-or-tuple of lists-or-tuples-or ndarrays with different lengths or shapes) is deprecated. If you meant to do this, you must specify 'dtype=object' when creating the ndarray.\n",
      "\n"
     ]
    }
   ],
   "source": [
    "index=list(mc_results.columns)\n",
    "for x in [method]:\n",
    "    index.remove(x)\n",
    "A=corr.loc[index, [('IPCC 2013', 'climate change', 'GWP 100a')]]\n",
    "A.sort_values(by=('IPCC 2013', 'climate change', 'GWP 100a'), key=lambda col: abs(col), ascending=False, inplace=True)\n",
    "AA = A.loc[A.index[0:8],[('IPCC 2013', 'climate change', 'GWP 100a')]]\n",
    "AA.to_csv('MC_Correlation_RawData.csv')"
   ]
  },
  {
   "cell_type": "code",
   "execution_count": 59,
   "metadata": {},
   "outputs": [
    {
     "data": {
      "image/png": "[encoded data removed]",
      "text/plain": [
       "<Figure size 288x288 with 1 Axes>"
      ]
     },
     "metadata": {},
     "output_type": "display_data"
    }
   ],
   "source": [
    "fig, ax= plt.subplots(figsize=(4,4))\n",
    "sns.set(style = 'white',font_scale = 1.2, rc={'font.family':'serif', 'font.serif':'Times New Roman'})\n",
    "sns.barplot(data=AA, x=('IPCC 2013', 'climate change', 'GWP 100a'),\n",
    "            y=[str(i).replace(\"'\",'') for i in AA.index], ax=ax)\n",
    "ax.set_xlim((-1,1))\n",
    "ax.set_xlabel(r\"Correlation with GHG emissions\")\n",
    "ax.text(-3.6,8,'A', fontsize=20)\n",
    "\n",
    "y_tick_lables = ax.set_yticklabels([\n",
    "    'Gross electricity production in WTE',\n",
    "    'Residential waste generation rate',\n",
    "    'Aluminum recovery rate from bottom ash',\n",
    "    'Electricity offsets from ferrous recycling',\n",
    "    'Electricity offsets from aluminum recycling',\n",
    "    'Final landfill gas collection efficiency',\n",
    "    'Inital landfill gas collection efficiency',\n",
    "    'Bulk decay rate in landfill'])\n",
    "\n",
    "ax.xaxis.tick_bottom()\n",
    "ax.yaxis.tick_left()\n",
    "\n",
    "fig.savefig('MC_Correlation',dpi=600, bbox_inches='tight')"
   ]
  },
  {
   "cell_type": "code",
   "execution_count": 15,
   "metadata": {},
   "outputs": [],
   "source": [
    "bw2.projects.set_current('MonteCarlo')\n",
    "FU = bw2.get_activity(('waste', 'Collection'))"
   ]
  },
  {
   "cell_type": "code",
   "execution_count": 49,
   "metadata": {},
   "outputs": [
    {
     "data": {
      "image/png": "[encoded data removed]",
      "text/plain": [
       "<Figure size 554.4x216 with 1 Axes>"
      ]
     },
     "metadata": {
      "needs_background": "light"
     },
     "output_type": "display_data"
    }
   ],
   "source": [
    "fig, ax = plt.subplots(figsize=(7.7,3))\n",
    "\n",
    "histdata = mc_results[[('IPCC 2013', 'climate change', 'GWP 100a')]]/float(FU.as_dict()['unit'].split(' ')[0])\n",
    "\n",
    "sns.histplot(data=histdata, x=histdata.columns[0], ax=ax, stat='probability', )\n",
    "ax.set_xlabel(r\"GHG emissions $(kg CO_2 Eq)$\")\n",
    "ax.text(-950,-0.005,'B', fontsize=20)\n",
    "ax.set_ylabel('Frequency')\n",
    "ax.xaxis.tick_bottom()\n",
    "ax.yaxis.tick_left()\n",
    "\n",
    "ax.axvline(stats.scoreatpercentile(histdata, 2.5), c='r', label='95%\\nconfidence\\ninterval')\n",
    "ax.axvline(stats.scoreatpercentile(histdata, 97.5), c='r')\n",
    "ax.legend()\n",
    "\n",
    "fig.savefig('MC_Dist',dpi=600, bbox_inches='tight')"
   ]
  },
  {
   "cell_type": "code",
   "execution_count": 24,
   "metadata": {},
   "outputs": [
    {
     "data": {
      "text/html": [
       "<div>\n",
       "<style scoped>\n",
       "    .dataframe tbody tr th:only-of-type {\n",
       "        vertical-align: middle;\n",
       "    }\n",
       "\n",
       "    .dataframe tbody tr th {\n",
       "        vertical-align: top;\n",
       "    }\n",
       "\n",
       "    .dataframe thead th {\n",
       "        text-align: right;\n",
       "    }\n",
       "</style>\n",
       "<table border=\"1\" class=\"dataframe\">\n",
       "  <thead>\n",
       "    <tr style=\"text-align: right;\">\n",
       "      <th></th>\n",
       "      <th>(IPCC 2013, climate change, GWP 100a)</th>\n",
       "    </tr>\n",
       "  </thead>\n",
       "  <tbody>\n",
       "    <tr>\n",
       "      <th>count</th>\n",
       "      <td>10000.000000</td>\n",
       "    </tr>\n",
       "    <tr>\n",
       "      <th>mean</th>\n",
       "      <td>-602.390136</td>\n",
       "    </tr>\n",
       "    <tr>\n",
       "      <th>std</th>\n",
       "      <td>64.948823</td>\n",
       "    </tr>\n",
       "    <tr>\n",
       "      <th>min</th>\n",
       "      <td>-833.696966</td>\n",
       "    </tr>\n",
       "    <tr>\n",
       "      <th>2.5%</th>\n",
       "      <td>-733.623359</td>\n",
       "    </tr>\n",
       "    <tr>\n",
       "      <th>50%</th>\n",
       "      <td>-601.406715</td>\n",
       "    </tr>\n",
       "    <tr>\n",
       "      <th>97.5%</th>\n",
       "      <td>-476.701924</td>\n",
       "    </tr>\n",
       "    <tr>\n",
       "      <th>max</th>\n",
       "      <td>-346.788232</td>\n",
       "    </tr>\n",
       "  </tbody>\n",
       "</table>\n",
       "</div>"
      ],
      "text/plain": [
       "       (IPCC 2013, climate change, GWP 100a)\n",
       "count  10000.000000                         \n",
       "mean  -602.390136                           \n",
       "std    64.948823                            \n",
       "min   -833.696966                           \n",
       "2.5%  -733.623359                           \n",
       "50%   -601.406715                           \n",
       "97.5% -476.701924                           \n",
       "max   -346.788232                           "
      ]
     },
     "execution_count": 24,
     "metadata": {},
     "output_type": "execute_result"
    }
   ],
   "source": [
    "histdata.describe(percentiles=[0.025,0.975])"
   ]
  },
  {
   "cell_type": "markdown",
   "metadata": {},
   "source": [
    "## Performace test"
   ]
  },
  {
   "cell_type": "code",
   "execution_count": 25,
   "metadata": {},
   "outputs": [],
   "source": [
    "Performance=pd.DataFrame(columns=['Number of processors','time'])\n",
    "Nproc = np.arange(1, os.cpu_count()+1)\n",
    "n = [x*600 for x in Nproc]\n",
    "time_list = []"
   ]
  },
  {
   "cell_type": "code",
   "execution_count": 26,
   "metadata": {},
   "outputs": [],
   "source": [
    "for i,j in zip(Nproc, n):\n",
    "    start = time()\n",
    "    mc.run(i, j)\n",
    "    time_list.append(round((time()-start)/j*10000/60,2))\n",
    "\n",
    "Performance['Number of processors']=Nproc\n",
    "Performance['time']=time_list"
   ]
  },
  {
   "cell_type": "code",
   "execution_count": 27,
   "metadata": {},
   "outputs": [
    {
     "data": {
      "text/html": [
       "<div>\n",
       "<style scoped>\n",
       "    .dataframe tbody tr th:only-of-type {\n",
       "        vertical-align: middle;\n",
       "    }\n",
       "\n",
       "    .dataframe tbody tr th {\n",
       "        vertical-align: top;\n",
       "    }\n",
       "\n",
       "    .dataframe thead th {\n",
       "        text-align: right;\n",
       "    }\n",
       "</style>\n",
       "<table border=\"1\" class=\"dataframe\">\n",
       "  <thead>\n",
       "    <tr style=\"text-align: right;\">\n",
       "      <th></th>\n",
       "      <th>Number of processors</th>\n",
       "      <th>time</th>\n",
       "      <th>Speedup</th>\n",
       "      <th>Efficiency</th>\n",
       "    </tr>\n",
       "  </thead>\n",
       "  <tbody>\n",
       "    <tr>\n",
       "      <th>0</th>\n",
       "      <td>1</td>\n",
       "      <td>67.37</td>\n",
       "      <td>1.00</td>\n",
       "      <td>100.0</td>\n",
       "    </tr>\n",
       "    <tr>\n",
       "      <th>1</th>\n",
       "      <td>2</td>\n",
       "      <td>34.70</td>\n",
       "      <td>1.94</td>\n",
       "      <td>97.0</td>\n",
       "    </tr>\n",
       "    <tr>\n",
       "      <th>2</th>\n",
       "      <td>3</td>\n",
       "      <td>24.22</td>\n",
       "      <td>2.78</td>\n",
       "      <td>93.0</td>\n",
       "    </tr>\n",
       "    <tr>\n",
       "      <th>3</th>\n",
       "      <td>4</td>\n",
       "      <td>21.09</td>\n",
       "      <td>3.19</td>\n",
       "      <td>80.0</td>\n",
       "    </tr>\n",
       "    <tr>\n",
       "      <th>4</th>\n",
       "      <td>5</td>\n",
       "      <td>19.15</td>\n",
       "      <td>3.52</td>\n",
       "      <td>70.0</td>\n",
       "    </tr>\n",
       "    <tr>\n",
       "      <th>5</th>\n",
       "      <td>6</td>\n",
       "      <td>17.86</td>\n",
       "      <td>3.77</td>\n",
       "      <td>63.0</td>\n",
       "    </tr>\n",
       "    <tr>\n",
       "      <th>6</th>\n",
       "      <td>7</td>\n",
       "      <td>16.59</td>\n",
       "      <td>4.06</td>\n",
       "      <td>58.0</td>\n",
       "    </tr>\n",
       "    <tr>\n",
       "      <th>7</th>\n",
       "      <td>8</td>\n",
       "      <td>15.98</td>\n",
       "      <td>4.22</td>\n",
       "      <td>53.0</td>\n",
       "    </tr>\n",
       "  </tbody>\n",
       "</table>\n",
       "</div>"
      ],
      "text/plain": [
       "   Number of processors   time  Speedup  Efficiency\n",
       "0  1                     67.37  1.00     100.0     \n",
       "1  2                     34.70  1.94     97.0      \n",
       "2  3                     24.22  2.78     93.0      \n",
       "3  4                     21.09  3.19     80.0      \n",
       "4  5                     19.15  3.52     70.0      \n",
       "5  6                     17.86  3.77     63.0      \n",
       "6  7                     16.59  4.06     58.0      \n",
       "7  8                     15.98  4.22     53.0      "
      ]
     },
     "execution_count": 27,
     "metadata": {},
     "output_type": "execute_result"
    }
   ],
   "source": [
    "Performance['Speedup'] = round(Performance['time'][0]/Performance['time'], 2)\n",
    "Performance['Efficiency'] = round(Performance['Speedup'] / Performance['Number of processors'] * 100)\n",
    "Performance.to_csv('Performance_raw_data.csv')\n",
    "Performance"
   ]
  },
  {
   "cell_type": "code",
   "execution_count": 28,
   "metadata": {
    "scrolled": true
   },
   "outputs": [
    {
     "data": {
      "text/plain": [
       "<matplotlib.legend.Legend at 0x27df8f146c8>"
      ]
     },
     "execution_count": 28,
     "metadata": {},
     "output_type": "execute_result"
    },
    {
     "data": {
      "image/png": "[encoded data removed]",
      "text/plain": [
       "<Figure size 432x288 with 2 Axes>"
      ]
     },
     "metadata": {},
     "output_type": "display_data"
    }
   ],
   "source": [
    "fig, ax = plt.subplots(figsize=(6,4))\n",
    "ax.plot(Performance['Number of processors'],Performance['Speedup'], label='Speedup',color='b', marker='o')\n",
    "ax2 = plt.twinx()\n",
    "ax2.plot(Performance['Number of processors'],Performance['Efficiency'], label='Efficiency', color='r', marker='s')\n",
    "\n",
    "ax.set_xlabel('Number of processors')\n",
    "ax.set_ylabel('Speedup')\n",
    "ax2.set_ylabel('Efficiency (%)')\n",
    "\n",
    "fig.legend(loc=\"upper right\", bbox_to_anchor=(0.9,0.6))"
   ]
  },
  {
   "cell_type": "code",
   "execution_count": 29,
   "metadata": {},
   "outputs": [],
   "source": [
    "fig.savefig('Performance', dpi=600, bbox_inches='tight')"
   ]
  }
 ],
 "metadata": {
  "kernelspec": {
   "display_name": "Python 3",
   "language": "python",
   "name": "python3"
  },
  "language_info": {
   "codemirror_mode": {
    "name": "ipython",
    "version": 3
   },
   "file_extension": ".py",
   "mimetype": "text/x-python",
   "name": "python",
   "nbconvert_exporter": "python",
   "pygments_lexer": "ipython3",
   "version": "3.7.9"
  }
 },
 "nbformat": 4,
 "nbformat_minor": 4
}
