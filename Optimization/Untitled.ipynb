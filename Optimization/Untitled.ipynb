{
 "cells": [
  {
   "cell_type": "code",
   "execution_count": 1,
   "id": "classical-wagner",
   "metadata": {},
   "outputs": [],
   "source": [
    "from swolfpy.utils import plot_sankey"
   ]
  },
  {
   "cell_type": "code",
   "execution_count": 2,
   "id": "monetary-cosmetic",
   "metadata": {},
   "outputs": [],
   "source": [
    "plot_sankey('BaseCase.JSON',fileName='BaseCase.html')"
   ]
  },
  {
   "cell_type": "code",
   "execution_count": 3,
   "id": "prescription-peace",
   "metadata": {},
   "outputs": [],
   "source": [
    "plot_sankey('OptimizeScenario1.JSON',fileName='OptimizeScenario1.html')\n",
    "plot_sankey('OptimizeScenario2.JSON',fileName='OptimizeScenario2.html')\n",
    "plot_sankey('OptimizeScenario3.JSON',fileName='OptimizeScenario3.html')"
   ]
  },
  {
   "cell_type": "code",
   "execution_count": null,
   "id": "figured-croatia",
   "metadata": {},
   "outputs": [],
   "source": []
  }
 ],
 "metadata": {
  "kernelspec": {
   "display_name": "Python 3",
   "language": "python",
   "name": "python3"
  },
  "language_info": {
   "codemirror_mode": {
    "name": "ipython",
    "version": 3
   },
   "file_extension": ".py",
   "mimetype": "text/x-python",
   "name": "python",
   "nbconvert_exporter": "python",
   "pygments_lexer": "ipython3",
   "version": "3.7.9"
  }
 },
 "nbformat": 4,
 "nbformat_minor": 5
}
