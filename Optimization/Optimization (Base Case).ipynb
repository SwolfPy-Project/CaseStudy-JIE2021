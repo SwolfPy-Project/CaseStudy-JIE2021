{
 "cells": [
  {
   "cell_type": "markdown",
   "metadata": {},
   "source": [
    "# Optimization (Base Case)"
   ]
  },
  {
   "cell_type": "code",
   "execution_count": 1,
   "metadata": {},
   "outputs": [],
   "source": [
    "import swolfpy as sp\n",
    "import swolfpy_inputdata as spid\n",
    "import swolfpy_processmodels as sppm\n",
    "\n",
    "import brightway2 as bw2\n",
    "import pandas as pd\n",
    "from time import time"
   ]
  },
  {
   "cell_type": "markdown",
   "metadata": {},
   "source": [
    "### SwolfPy version used to produced the results:"
   ]
  },
  {
   "cell_type": "code",
   "execution_count": 2,
   "metadata": {},
   "outputs": [
    {
     "data": {
      "text/html": [
       "<div>\n",
       "<style scoped>\n",
       "    .dataframe tbody tr th:only-of-type {\n",
       "        vertical-align: middle;\n",
       "    }\n",
       "\n",
       "    .dataframe tbody tr th {\n",
       "        vertical-align: top;\n",
       "    }\n",
       "\n",
       "    .dataframe thead th {\n",
       "        text-align: right;\n",
       "    }\n",
       "</style>\n",
       "<table border=\"1\" class=\"dataframe\">\n",
       "  <thead>\n",
       "    <tr style=\"text-align: right;\">\n",
       "      <th></th>\n",
       "      <th>Version</th>\n",
       "    </tr>\n",
       "  </thead>\n",
       "  <tbody>\n",
       "    <tr>\n",
       "      <th>swolfpy</th>\n",
       "      <td>0.2.2</td>\n",
       "    </tr>\n",
       "    <tr>\n",
       "      <th>swolfpy_processmodels</th>\n",
       "      <td>0.1.6</td>\n",
       "    </tr>\n",
       "    <tr>\n",
       "      <th>swolfpy_inputdata</th>\n",
       "      <td>0.2.1</td>\n",
       "    </tr>\n",
       "  </tbody>\n",
       "</table>\n",
       "</div>"
      ],
      "text/plain": [
       "                      Version\n",
       "swolfpy                 0.2.2\n",
       "swolfpy_processmodels   0.1.6\n",
       "swolfpy_inputdata       0.2.1"
      ]
     },
     "execution_count": 2,
     "metadata": {},
     "output_type": "execute_result"
    }
   ],
   "source": [
    "pd.DataFrame({'Version': [sp.__version__, sppm.__version__, spid.__version__]},\n",
    "             index=['swolfpy', 'swolfpy_processmodels', 'swolfpy_inputdata'])"
   ]
  },
  {
   "cell_type": "markdown",
   "metadata": {},
   "source": [
    "## Create project"
   ]
  },
  {
   "cell_type": "code",
   "execution_count": 3,
   "metadata": {},
   "outputs": [],
   "source": [
    "project_name = 'BaseCase'\n",
    "technosphere = sp.Technosphere(project_name)\n",
    "common_data = spid.CommonData()\n",
    "ProcessMetaData = sppm.ProcessModelsMetaData.ProcessModelsMetaData"
   ]
  },
  {
   "cell_type": "code",
   "execution_count": 4,
   "metadata": {},
   "outputs": [],
   "source": [
    "# Treatment processes\n",
    "Treatment_processes = {}\n",
    "Treatment_processes['LF'] = {'input_type':ProcessMetaData['LF']['InputType'] , 'model':sppm.LF()}\n",
    "Treatment_processes['Composting'] = {'input_type':ProcessMetaData['Comp']['InputType'] , 'model':sppm.Comp()}\n",
    "Treatment_processes['SS_MRF'] = {'input_type':ProcessMetaData['SS_MRF']['InputType'] , 'model':sppm.SS_MRF()}\n",
    "Treatment_processes['Reprocessing'] = {'input_type':ProcessMetaData['Reproc']['InputType'] , 'model':sppm.Reproc()}\n"
   ]
  },
  {
   "cell_type": "code",
   "execution_count": 5,
   "metadata": {},
   "outputs": [
    {
     "data": {
      "text/html": [
       "<div>\n",
       "<style scoped>\n",
       "    .dataframe tbody tr th:only-of-type {\n",
       "        vertical-align: middle;\n",
       "    }\n",
       "\n",
       "    .dataframe tbody tr th {\n",
       "        vertical-align: top;\n",
       "    }\n",
       "\n",
       "    .dataframe thead th {\n",
       "        text-align: right;\n",
       "    }\n",
       "</style>\n",
       "<table border=\"1\" class=\"dataframe\">\n",
       "  <thead>\n",
       "    <tr style=\"text-align: right;\">\n",
       "      <th></th>\n",
       "      <th>LF</th>\n",
       "      <th>Composting</th>\n",
       "      <th>SS_MRF</th>\n",
       "      <th>Reprocessing</th>\n",
       "      <th>Collection</th>\n",
       "    </tr>\n",
       "  </thead>\n",
       "  <tbody>\n",
       "    <tr>\n",
       "      <th>LF</th>\n",
       "      <td>NaN</td>\n",
       "      <td>30.0</td>\n",
       "      <td>30.0</td>\n",
       "      <td>30.0</td>\n",
       "      <td>30.0</td>\n",
       "    </tr>\n",
       "    <tr>\n",
       "      <th>Composting</th>\n",
       "      <td>NaN</td>\n",
       "      <td>NaN</td>\n",
       "      <td>30.0</td>\n",
       "      <td>30.0</td>\n",
       "      <td>30.0</td>\n",
       "    </tr>\n",
       "    <tr>\n",
       "      <th>SS_MRF</th>\n",
       "      <td>NaN</td>\n",
       "      <td>NaN</td>\n",
       "      <td>NaN</td>\n",
       "      <td>30.0</td>\n",
       "      <td>30.0</td>\n",
       "    </tr>\n",
       "    <tr>\n",
       "      <th>Reprocessing</th>\n",
       "      <td>NaN</td>\n",
       "      <td>NaN</td>\n",
       "      <td>NaN</td>\n",
       "      <td>NaN</td>\n",
       "      <td>30.0</td>\n",
       "    </tr>\n",
       "    <tr>\n",
       "      <th>Collection</th>\n",
       "      <td>NaN</td>\n",
       "      <td>NaN</td>\n",
       "      <td>NaN</td>\n",
       "      <td>NaN</td>\n",
       "      <td>NaN</td>\n",
       "    </tr>\n",
       "  </tbody>\n",
       "</table>\n",
       "</div>"
      ],
      "text/plain": [
       "              LF  Composting  SS_MRF  Reprocessing  Collection\n",
       "LF           NaN        30.0    30.0          30.0        30.0\n",
       "Composting   NaN         NaN    30.0          30.0        30.0\n",
       "SS_MRF       NaN         NaN     NaN          30.0        30.0\n",
       "Reprocessing NaN         NaN     NaN           NaN        30.0\n",
       "Collection   NaN         NaN     NaN           NaN         NaN"
      ]
     },
     "execution_count": 5,
     "metadata": {},
     "output_type": "execute_result"
    }
   ],
   "source": [
    "# Distance\n",
    "Processes = ['LF', 'Composting', 'SS_MRF', 'Reprocessing', 'Collection']\n",
    "data = sppm.Distance.create_distance_table(process_names=Processes,\n",
    "                                           transport_modes=['Heavy Duty Truck'],\n",
    "                                           default_dist=30)\n",
    "\n",
    "distance = sppm.Distance(data)          \n",
    "data['Heavy Duty Truck']"
   ]
  },
  {
   "cell_type": "code",
   "execution_count": 6,
   "metadata": {},
   "outputs": [],
   "source": [
    "# Collection_processes:\n",
    "# Only include one single family sector wih residual waste collection\n",
    "Collection_scheme = sppm.SF_Col.scheme()\n",
    "Collection_scheme[('RWC', 'SSYW', 'SSR')] = 1\n",
    "Collection_processes = {}\n",
    "Collection_processes['Collection'] = {'input_type': [],\n",
    "                                      'model': sppm.SF_Col('Collection', Collection_scheme,\n",
    "                                                      Treatment_processes=Treatment_processes,\n",
    "                                                      Distance=distance)}"
   ]
  },
  {
   "cell_type": "code",
   "execution_count": 7,
   "metadata": {
    "scrolled": true
   },
   "outputs": [
    {
     "name": "stdout",
     "output_type": "stream",
     "text": [
      "Biosphere database already present!!! No setup is needed\n",
      "Vacuuming database \n",
      "Vacuuming database \n"
     ]
    },
    {
     "name": "stderr",
     "output_type": "stream",
     "text": [
      "Writing activities to SQLite3 database:\n"
     ]
    },
    {
     "name": "stdout",
     "output_type": "stream",
     "text": [
      "\n",
      "                ####\n",
      "                ++++++  Writing the Technosphere\n",
      "                \n"
     ]
    },
    {
     "name": "stderr",
     "output_type": "stream",
     "text": [
      "0% [##############################] 100% | ETA: 00:00:00\n",
      "Total time elapsed: 00:00:13\n"
     ]
    },
    {
     "name": "stdout",
     "output_type": "stream",
     "text": [
      "Title: Writing activities to SQLite3 database:\n",
      "  Started: 10/02/2021 21:51:21\n",
      "  Finished: 10/02/2021 21:51:34\n",
      "  Total time elapsed: 00:00:13\n",
      "  CPU %: 48.60\n",
      "  Memory %: 1.32\n"
     ]
    },
    {
     "name": "stderr",
     "output_type": "stream",
     "text": [
      "Writing activities to SQLite3 database:\n"
     ]
    },
    {
     "name": "stdout",
     "output_type": "stream",
     "text": [
      "\n",
      "              ####\n",
      "              ++++++ Initializing the LF\n",
      "              \n"
     ]
    },
    {
     "name": "stderr",
     "output_type": "stream",
     "text": [
      "0% [##############################] 100% | ETA: 00:00:00\n",
      "Total time elapsed: 00:00:00\n",
      "Writing activities to SQLite3 database:\n"
     ]
    },
    {
     "name": "stdout",
     "output_type": "stream",
     "text": [
      "Title: Writing activities to SQLite3 database:\n",
      "  Started: 10/02/2021 21:51:35\n",
      "  Finished: 10/02/2021 21:51:35\n",
      "  Total time elapsed: 00:00:00\n",
      "  CPU %: 97.70\n",
      "  Memory %: 1.32\n",
      "\n",
      "              ####\n",
      "              ++++++ Initializing the Composting\n",
      "              \n"
     ]
    },
    {
     "name": "stderr",
     "output_type": "stream",
     "text": [
      "0% [##############################] 100% | ETA: 00:00:00\n",
      "Total time elapsed: 00:00:00\n"
     ]
    },
    {
     "name": "stdout",
     "output_type": "stream",
     "text": [
      "Title: Writing activities to SQLite3 database:\n",
      "  Started: 10/02/2021 21:51:35\n",
      "  Finished: 10/02/2021 21:51:35\n",
      "  Total time elapsed: 00:00:00\n",
      "  CPU %: 97.70\n",
      "  Memory %: 1.32\n"
     ]
    },
    {
     "name": "stderr",
     "output_type": "stream",
     "text": [
      "Writing activities to SQLite3 database:\n"
     ]
    },
    {
     "name": "stdout",
     "output_type": "stream",
     "text": [
      "\n",
      "              ####\n",
      "              ++++++ Initializing the SS_MRF\n",
      "              \n"
     ]
    },
    {
     "name": "stderr",
     "output_type": "stream",
     "text": [
      "0% [##############################] 100% | ETA: 00:00:00\n",
      "Total time elapsed: 00:00:00\n"
     ]
    },
    {
     "name": "stdout",
     "output_type": "stream",
     "text": [
      "Title: Writing activities to SQLite3 database:\n",
      "  Started: 10/02/2021 21:51:35\n",
      "  Finished: 10/02/2021 21:51:35\n",
      "  Total time elapsed: 00:00:00\n",
      "  CPU %: 195.30\n",
      "  Memory %: 1.32\n"
     ]
    },
    {
     "name": "stderr",
     "output_type": "stream",
     "text": [
      "Writing activities to SQLite3 database:\n"
     ]
    },
    {
     "name": "stdout",
     "output_type": "stream",
     "text": [
      "\n",
      "              ####\n",
      "              ++++++ Initializing the Reprocessing\n",
      "              \n"
     ]
    },
    {
     "name": "stderr",
     "output_type": "stream",
     "text": [
      "0% [###############] 100% | ETA: 00:00:00\n",
      "Total time elapsed: 00:00:00\n"
     ]
    },
    {
     "name": "stdout",
     "output_type": "stream",
     "text": [
      "Title: Writing activities to SQLite3 database:\n",
      "  Started: 10/02/2021 21:51:35\n",
      "  Finished: 10/02/2021 21:51:35\n",
      "  Total time elapsed: 00:00:00\n",
      "  CPU %: 0.00\n",
      "  Memory %: 1.32\n",
      "\n",
      "              ####\n",
      "              ++++++ Initializing the Collection\n",
      "              "
     ]
    },
    {
     "name": "stderr",
     "output_type": "stream",
     "text": [
      "Writing activities to SQLite3 database:\n"
     ]
    },
    {
     "name": "stdout",
     "output_type": "stream",
     "text": [
      "\n"
     ]
    },
    {
     "name": "stderr",
     "output_type": "stream",
     "text": [
      "0% [##############################] 100% | ETA: 00:00:00\n",
      "Total time elapsed: 00:00:00\n"
     ]
    },
    {
     "name": "stdout",
     "output_type": "stream",
     "text": [
      "Title: Writing activities to SQLite3 database:\n",
      "  Started: 10/02/2021 21:51:35\n",
      "  Finished: 10/02/2021 21:51:35\n",
      "  Total time elapsed: 00:00:00\n",
      "  CPU %: 97.70\n",
      "  Memory %: 1.32\n",
      "\n",
      "              ####\n",
      "              ++++++ Writing the LF\n",
      "              \n"
     ]
    },
    {
     "name": "stderr",
     "output_type": "stream",
     "text": [
      "Writing activities to SQLite3 database:\n",
      "0% [##############################] 100% | ETA: 00:00:00\n",
      "Total time elapsed: 00:00:01\n",
      "Writing activities to SQLite3 database:\n"
     ]
    },
    {
     "name": "stdout",
     "output_type": "stream",
     "text": [
      "Title: Writing activities to SQLite3 database:\n",
      "  Started: 10/02/2021 21:51:35\n",
      "  Finished: 10/02/2021 21:51:36\n",
      "  Total time elapsed: 00:00:01\n",
      "  CPU %: 51.40\n",
      "  Memory %: 1.34\n",
      "\n",
      "                  ####\n",
      "                  ++++++ Writing the Composting_product\n",
      "                  \n"
     ]
    },
    {
     "name": "stderr",
     "output_type": "stream",
     "text": [
      "0% [##############################] 100% | ETA: 00:00:00\n",
      "Total time elapsed: 00:00:00\n",
      "Writing activities to SQLite3 database:\n"
     ]
    },
    {
     "name": "stdout",
     "output_type": "stream",
     "text": [
      "Title: Writing activities to SQLite3 database:\n",
      "  Started: 10/02/2021 21:51:36\n",
      "  Finished: 10/02/2021 21:51:36\n",
      "  Total time elapsed: 00:00:00\n",
      "  CPU %: 48.80\n",
      "  Memory %: 1.34\n",
      "\n",
      "              ####\n",
      "              ++++++ Writing the Composting\n",
      "              \n"
     ]
    },
    {
     "name": "stderr",
     "output_type": "stream",
     "text": [
      "0% [##############################] 100% | ETA: 00:00:00\n",
      "Total time elapsed: 00:00:00\n"
     ]
    },
    {
     "name": "stdout",
     "output_type": "stream",
     "text": [
      "Title: Writing activities to SQLite3 database:\n",
      "  Started: 10/02/2021 21:51:37\n",
      "  Finished: 10/02/2021 21:51:37\n",
      "  Total time elapsed: 00:00:00\n",
      "  CPU %: 53.90\n",
      "  Memory %: 1.34\n",
      "\n",
      "                  ####\n",
      "                  ++++++ Writing the SS_MRF_product\n",
      "                  \n"
     ]
    },
    {
     "name": "stderr",
     "output_type": "stream",
     "text": [
      "Writing activities to SQLite3 database:\n",
      "0% [##############################] 100% | ETA: 00:00:00\n",
      "Total time elapsed: 00:00:00\n"
     ]
    },
    {
     "name": "stdout",
     "output_type": "stream",
     "text": [
      "Title: Writing activities to SQLite3 database:\n",
      "  Started: 10/02/2021 21:51:37\n",
      "  Finished: 10/02/2021 21:51:37\n",
      "  Total time elapsed: 00:00:00\n",
      "  CPU %: 52.60\n",
      "  Memory %: 1.35\n"
     ]
    },
    {
     "name": "stderr",
     "output_type": "stream",
     "text": [
      "Writing activities to SQLite3 database:\n"
     ]
    },
    {
     "name": "stdout",
     "output_type": "stream",
     "text": [
      "\n",
      "              ####\n",
      "              ++++++ Writing the SS_MRF\n",
      "              \n"
     ]
    },
    {
     "name": "stderr",
     "output_type": "stream",
     "text": [
      "0% [##############################] 100% | ETA: 00:00:00\n",
      "Total time elapsed: 00:00:00\n",
      "Writing activities to SQLite3 database:\n"
     ]
    },
    {
     "name": "stdout",
     "output_type": "stream",
     "text": [
      "Title: Writing activities to SQLite3 database:\n",
      "  Started: 10/02/2021 21:51:38\n",
      "  Finished: 10/02/2021 21:51:38\n",
      "  Total time elapsed: 00:00:00\n",
      "  CPU %: 54.50\n",
      "  Memory %: 1.37\n",
      "\n",
      "              ####\n",
      "              ++++++ Writing the Reprocessing\n",
      "              \n"
     ]
    },
    {
     "name": "stderr",
     "output_type": "stream",
     "text": [
      "0% [###############] 100% | ETA: 00:00:00\n",
      "Total time elapsed: 00:00:00\n"
     ]
    },
    {
     "name": "stdout",
     "output_type": "stream",
     "text": [
      "Title: Writing activities to SQLite3 database:\n",
      "  Started: 10/02/2021 21:51:38\n",
      "  Finished: 10/02/2021 21:51:39\n",
      "  Total time elapsed: 00:00:00\n",
      "  CPU %: 100.80\n",
      "  Memory %: 1.37\n"
     ]
    },
    {
     "name": "stderr",
     "output_type": "stream",
     "text": [
      "Writing activities to SQLite3 database:\n"
     ]
    },
    {
     "name": "stdout",
     "output_type": "stream",
     "text": [
      "\n",
      "                  ####\n",
      "                  ++++++ Writing the Collection_product\n",
      "                  \n"
     ]
    },
    {
     "name": "stderr",
     "output_type": "stream",
     "text": [
      "0% [##############################] 100% | ETA: 00:00:00\n",
      "Total time elapsed: 00:00:00\n"
     ]
    },
    {
     "name": "stdout",
     "output_type": "stream",
     "text": [
      "Title: Writing activities to SQLite3 database:\n",
      "  Started: 10/02/2021 21:51:39\n",
      "  Finished: 10/02/2021 21:51:39\n",
      "  Total time elapsed: 00:00:00\n",
      "  CPU %: 69.30\n",
      "  Memory %: 1.37\n"
     ]
    },
    {
     "name": "stderr",
     "output_type": "stream",
     "text": [
      "Writing activities to SQLite3 database:\n"
     ]
    },
    {
     "name": "stdout",
     "output_type": "stream",
     "text": [
      "\n",
      "              ####\n",
      "              ++++++ Writing the Collection\n",
      "              \n"
     ]
    },
    {
     "name": "stderr",
     "output_type": "stream",
     "text": [
      "0% [##############################] 100% | ETA: 00:00:00\n",
      "Total time elapsed: 00:00:00\n"
     ]
    },
    {
     "name": "stdout",
     "output_type": "stream",
     "text": [
      "Title: Writing activities to SQLite3 database:\n",
      "  Started: 10/02/2021 21:51:40\n",
      "  Finished: 10/02/2021 21:51:40\n",
      "  Total time elapsed: 00:00:00\n",
      "  CPU %: 57.30\n",
      "  Memory %: 1.38\n",
      "\n",
      "                  Grouping the exchanges with parameters in Database LF\n",
      "                  \n",
      "\n",
      "                  Grouping the exchanges with parameters in Database Composting\n",
      "                  \n",
      "\n",
      "                  Grouping the exchanges with parameters in Database SS_MRF\n",
      "                  \n",
      "\n",
      "                  Grouping the exchanges with parameters in Database Reprocessing\n",
      "                  \n",
      "\n",
      "                  Grouping the exchanges with parameters in Database Collection\n",
      "                  \n",
      "Time for writing the project: 44 second\n"
     ]
    }
   ],
   "source": [
    "start = time()\n",
    "demo = sp.Project(project_name, common_data, Treatment_processes, distance, Collection_processes, technosphere)\n",
    "demo.init_project()\n",
    "demo.write_project()\n",
    "demo.group_exchanges()\n",
    "print(\"Time for writing the project: {} second\".format(round(time()-start)))"
   ]
  },
  {
   "cell_type": "code",
   "execution_count": 8,
   "metadata": {},
   "outputs": [
    {
     "name": "stdout",
     "output_type": "stream",
     "text": [
      "Time for updating the parameters: 1 second\n"
     ]
    }
   ],
   "source": [
    "start = time()\n",
    "newparam = []\n",
    "demo.update_parameters(newparam)\n",
    "\n",
    "print(\"Time for updating the parameters: {} second\".format(round(time()-start)))"
   ]
  },
  {
   "cell_type": "code",
   "execution_count": 9,
   "metadata": {},
   "outputs": [],
   "source": [
    "input_dict = {'Collection':{}}\n",
    "\n",
    "for key in common_data.Index:\n",
    "    input_dict['Collection'][key]=1\n",
    "demo.create_scenario(input_dict,'Collection')"
   ]
  },
  {
   "cell_type": "markdown",
   "metadata": {},
   "source": [
    "## Mass flows, impacts and costs"
   ]
  },
  {
   "cell_type": "code",
   "execution_count": 10,
   "metadata": {},
   "outputs": [
    {
     "data": {
      "text/html": [
       "<div>\n",
       "<style scoped>\n",
       "    .dataframe tbody tr th:only-of-type {\n",
       "        vertical-align: middle;\n",
       "    }\n",
       "\n",
       "    .dataframe tbody tr th {\n",
       "        vertical-align: top;\n",
       "    }\n",
       "\n",
       "    .dataframe thead th {\n",
       "        text-align: right;\n",
       "    }\n",
       "</style>\n",
       "<table border=\"1\" class=\"dataframe\">\n",
       "  <thead>\n",
       "    <tr style=\"text-align: right;\">\n",
       "      <th></th>\n",
       "      <th>Value</th>\n",
       "      <th>Unit</th>\n",
       "    </tr>\n",
       "  </thead>\n",
       "  <tbody>\n",
       "    <tr>\n",
       "      <th>Diversion</th>\n",
       "      <td>33.52</td>\n",
       "      <td>%</td>\n",
       "    </tr>\n",
       "    <tr>\n",
       "      <th>GWP</th>\n",
       "      <td>-311.88</td>\n",
       "      <td>kg CO2/Mg</td>\n",
       "    </tr>\n",
       "    <tr>\n",
       "      <th>Operation Cost</th>\n",
       "      <td>56.97</td>\n",
       "      <td>$/Mg</td>\n",
       "    </tr>\n",
       "    <tr>\n",
       "      <th>Capital cost</th>\n",
       "      <td>2.87</td>\n",
       "      <td>$/Mg</td>\n",
       "    </tr>\n",
       "    <tr>\n",
       "      <th>Total cost</th>\n",
       "      <td>59.84</td>\n",
       "      <td>$/Mg</td>\n",
       "    </tr>\n",
       "    <tr>\n",
       "      <th>Collection</th>\n",
       "      <td>74621</td>\n",
       "      <td>Mg/yr</td>\n",
       "    </tr>\n",
       "    <tr>\n",
       "      <th>LF</th>\n",
       "      <td>49608</td>\n",
       "      <td>Mg/yr</td>\n",
       "    </tr>\n",
       "    <tr>\n",
       "      <th>WTE</th>\n",
       "      <td>0</td>\n",
       "      <td>Mg/yr</td>\n",
       "    </tr>\n",
       "    <tr>\n",
       "      <th>Composting</th>\n",
       "      <td>9570</td>\n",
       "      <td>Mg/yr</td>\n",
       "    </tr>\n",
       "    <tr>\n",
       "      <th>AD</th>\n",
       "      <td>0</td>\n",
       "      <td>Mg/yr</td>\n",
       "    </tr>\n",
       "    <tr>\n",
       "      <th>SS_MRF</th>\n",
       "      <td>18305</td>\n",
       "      <td>Mg/yr</td>\n",
       "    </tr>\n",
       "    <tr>\n",
       "      <th>Reprocessing</th>\n",
       "      <td>15861</td>\n",
       "      <td>Mg/yr</td>\n",
       "    </tr>\n",
       "  </tbody>\n",
       "</table>\n",
       "</div>"
      ],
      "text/plain": [
       "                 Value       Unit\n",
       "Diversion        33.52          %\n",
       "GWP            -311.88  kg CO2/Mg\n",
       "Operation Cost   56.97       $/Mg\n",
       "Capital cost      2.87       $/Mg\n",
       "Total cost       59.84       $/Mg\n",
       "Collection       74621      Mg/yr\n",
       "LF               49608      Mg/yr\n",
       "WTE                  0      Mg/yr\n",
       "Composting        9570      Mg/yr\n",
       "AD                   0      Mg/yr\n",
       "SS_MRF           18305      Mg/yr\n",
       "Reprocessing     15861      Mg/yr"
      ]
     },
     "execution_count": 10,
     "metadata": {},
     "output_type": "execute_result"
    }
   ],
   "source": [
    "results = pd.DataFrame(columns=['Value', 'Unit'],\n",
    "                       index=['Diversion','GWP','Operation Cost','Capital cost','Total cost',\n",
    "                              'Collection','LF','WTE','Composting','AD','SS_MRF','Reprocessing'])\n",
    "\n",
    "bw2.projects.set_current('BaseCase')\n",
    "Demand = {('waste', 'Collection'):1}\n",
    "FU=bw2.get_activity(('waste', 'Collection'))\n",
    "method = ('IPCC 2013', 'climate change', 'GWP 100a')\n",
    "lca=bw2.LCA(Demand,method)\n",
    "lca.lci()\n",
    "lca.lcia()\n",
    "results.loc['GWP',:] = [round(lca.score/float(FU.as_dict()['unit'].split(' ')[0]),2), 'kg CO2/Mg']\n",
    "\n",
    "lca.switch_method(('SwolfPy_Operational_Cost', 'SwolfPy'))\n",
    "lca.lcia()\n",
    "results.loc['Operation Cost',:] = [round(lca.score/float(FU.as_dict()['unit'].split(' ')[0]),2), '$/Mg']\n",
    "\n",
    "\n",
    "lca.switch_method(('SwolfPy_Capital_Cost', 'SwolfPy'))\n",
    "lca.lcia()\n",
    "results.loc['Capital cost',:] = [round(lca.score/float(FU.as_dict()['unit'].split(' ')[0]),2), '$/Mg']\n",
    "\n",
    "lca.switch_method(('SwolfPy_Total_Cost', 'SwolfPy'))\n",
    "lca.lcia()\n",
    "results.loc['Total cost',:] = [round(lca.score/float(FU.as_dict()['unit'].split(' ')[0]),2), '$/Mg']\n",
    "\n",
    "for process in ['Collection','LF','WTE','Composting','AD','SS_MRF','Reprocessing']:\n",
    "    results.loc[process,:] = [round(sp.LCA_matrix.LCA_matrix.get_mass_flow(lca, process)), 'Mg/yr']\n",
    "\n",
    "results.loc['Diversion',:] = [round((1-results['Value']['LF']/results['Value']['Collection'])*100,2), '%']\n",
    "results.to_csv('BaseCase.csv')\n",
    "results"
   ]
  },
  {
   "cell_type": "markdown",
   "metadata": {},
   "source": [
    "## Plot sankey with ``Optimization.plot_sankey``"
   ]
  },
  {
   "cell_type": "code",
   "execution_count": 11,
   "metadata": {},
   "outputs": [],
   "source": [
    "Opt=sp.Optimization(Demand, [('IPCC 2013', 'climate change', 'GWP 100a')], demo)"
   ]
  },
  {
   "cell_type": "code",
   "execution_count": 12,
   "metadata": {},
   "outputs": [
    {
     "name": "stdout",
     "output_type": "stream",
     "text": [
      "\n",
      "              # Sankey Mass flows\n",
      "              label = ['LF', 'Composting', 'SS_MRF', 'Reprocessing', 'Collection']\n",
      "              source = [1, 2, 2, 2, 2, 2, 2, 2, 2, 2, 2, 2, 2, 2, 2, 2, 2, 4, 4, 4, 4, 4, 4]\n",
      "              target = [0, 0, 3, 3, 3, 3, 3, 3, 3, 3, 3, 3, 3, 3, 3, 3, 3, 0, 2, 1, 1, 0, 1]\n",
      "              label_link = ['Other_Residual', 'Other_Residual', 'LDPE_Film', 'OCC', 'Mixed_Paper', 'ONP', 'OFF', 'Fiber_Other', 'Brown_glass', 'Clear_glass', 'Green_glass', 'Mixed_Glass', 'PET', 'HDPE_P', 'HDPE_T', 'Fe', 'Al', 'RWC', 'SSR', 'SSYW', 'SSO', 'MRDO', 'SSYWDO']\n",
      "              value = [418.877, 2443.883, 173.358, 6441.844, 5056.289, 0.0, 0.0, 0.0, 520.075, 115.572, 260.038, 0.0, 393.997, 146.256, 146.256, 2312.103, 295.497, 46745.303, 18305.169, 9570.086, 0.0, 0.0, 0.0]\n"
     ]
    }
   ],
   "source": [
    "Opt.plot_sankey(optimized_flow=False, fileName='BaseCase.html')"
   ]
  }
 ],
 "metadata": {
  "kernelspec": {
   "display_name": "Python 3",
   "language": "python",
   "name": "python3"
  },
  "language_info": {
   "codemirror_mode": {
    "name": "ipython",
    "version": 3
   },
   "file_extension": ".py",
   "mimetype": "text/x-python",
   "name": "python",
   "nbconvert_exporter": "python",
   "pygments_lexer": "ipython3",
   "version": "3.7.9"
  }
 },
 "nbformat": 4,
 "nbformat_minor": 4
}
